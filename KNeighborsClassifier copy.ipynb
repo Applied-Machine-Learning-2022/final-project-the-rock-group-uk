{
 "cells": [
  {
   "cell_type": "code",
   "execution_count": 126,
   "metadata": {},
   "outputs": [],
   "source": [
    "import pandas as pd\n",
    "import matplotlib.pyplot as plt\n",
    "import tensorflow as tf"
   ]
  },
  {
   "cell_type": "code",
   "execution_count": 127,
   "metadata": {},
   "outputs": [
    {
     "ename": "KeyboardInterrupt",
     "evalue": "",
     "output_type": "error",
     "traceback": [
      "\u001b[0;31m---------------------------------------------------------------------------\u001b[0m",
      "\u001b[0;31mKeyboardInterrupt\u001b[0m                         Traceback (most recent call last)",
      "\u001b[1;32m/Users/rodrigo/Downloads/bruh/FINAL/KNeighborsClassifier.ipynb Cell 2'\u001b[0m in \u001b[0;36m<cell line: 1>\u001b[0;34m()\u001b[0m\n\u001b[0;32m----> <a href='vscode-notebook-cell:/Users/rodrigo/Downloads/bruh/FINAL/KNeighborsClassifier.ipynb#ch0000001?line=0'>1</a>\u001b[0m exp_1 \u001b[39m=\u001b[39m pd\u001b[39m.\u001b[39;49mread_excel(\u001b[39m\"\u001b[39;49m\u001b[39mEXP-00001-Master.xlsx\u001b[39;49m\u001b[39m\"\u001b[39;49m)\n",
      "File \u001b[0;32m~/opt/anaconda3/lib/python3.9/site-packages/pandas/util/_decorators.py:311\u001b[0m, in \u001b[0;36mdeprecate_nonkeyword_arguments.<locals>.decorate.<locals>.wrapper\u001b[0;34m(*args, **kwargs)\u001b[0m\n\u001b[1;32m    <a href='file:///~/opt/anaconda3/lib/python3.9/site-packages/pandas/util/_decorators.py?line=304'>305</a>\u001b[0m \u001b[39mif\u001b[39;00m \u001b[39mlen\u001b[39m(args) \u001b[39m>\u001b[39m num_allow_args:\n\u001b[1;32m    <a href='file:///~/opt/anaconda3/lib/python3.9/site-packages/pandas/util/_decorators.py?line=305'>306</a>\u001b[0m     warnings\u001b[39m.\u001b[39mwarn(\n\u001b[1;32m    <a href='file:///~/opt/anaconda3/lib/python3.9/site-packages/pandas/util/_decorators.py?line=306'>307</a>\u001b[0m         msg\u001b[39m.\u001b[39mformat(arguments\u001b[39m=\u001b[39marguments),\n\u001b[1;32m    <a href='file:///~/opt/anaconda3/lib/python3.9/site-packages/pandas/util/_decorators.py?line=307'>308</a>\u001b[0m         \u001b[39mFutureWarning\u001b[39;00m,\n\u001b[1;32m    <a href='file:///~/opt/anaconda3/lib/python3.9/site-packages/pandas/util/_decorators.py?line=308'>309</a>\u001b[0m         stacklevel\u001b[39m=\u001b[39mstacklevel,\n\u001b[1;32m    <a href='file:///~/opt/anaconda3/lib/python3.9/site-packages/pandas/util/_decorators.py?line=309'>310</a>\u001b[0m     )\n\u001b[0;32m--> <a href='file:///~/opt/anaconda3/lib/python3.9/site-packages/pandas/util/_decorators.py?line=310'>311</a>\u001b[0m \u001b[39mreturn\u001b[39;00m func(\u001b[39m*\u001b[39;49margs, \u001b[39m*\u001b[39;49m\u001b[39m*\u001b[39;49mkwargs)\n",
      "File \u001b[0;32m~/opt/anaconda3/lib/python3.9/site-packages/pandas/io/excel/_base.py:465\u001b[0m, in \u001b[0;36mread_excel\u001b[0;34m(io, sheet_name, header, names, index_col, usecols, squeeze, dtype, engine, converters, true_values, false_values, skiprows, nrows, na_values, keep_default_na, na_filter, verbose, parse_dates, date_parser, thousands, decimal, comment, skipfooter, convert_float, mangle_dupe_cols, storage_options)\u001b[0m\n\u001b[1;32m    <a href='file:///~/opt/anaconda3/lib/python3.9/site-packages/pandas/io/excel/_base.py?line=458'>459</a>\u001b[0m     \u001b[39mraise\u001b[39;00m \u001b[39mValueError\u001b[39;00m(\n\u001b[1;32m    <a href='file:///~/opt/anaconda3/lib/python3.9/site-packages/pandas/io/excel/_base.py?line=459'>460</a>\u001b[0m         \u001b[39m\"\u001b[39m\u001b[39mEngine should not be specified when passing \u001b[39m\u001b[39m\"\u001b[39m\n\u001b[1;32m    <a href='file:///~/opt/anaconda3/lib/python3.9/site-packages/pandas/io/excel/_base.py?line=460'>461</a>\u001b[0m         \u001b[39m\"\u001b[39m\u001b[39man ExcelFile - ExcelFile already has the engine set\u001b[39m\u001b[39m\"\u001b[39m\n\u001b[1;32m    <a href='file:///~/opt/anaconda3/lib/python3.9/site-packages/pandas/io/excel/_base.py?line=461'>462</a>\u001b[0m     )\n\u001b[1;32m    <a href='file:///~/opt/anaconda3/lib/python3.9/site-packages/pandas/io/excel/_base.py?line=463'>464</a>\u001b[0m \u001b[39mtry\u001b[39;00m:\n\u001b[0;32m--> <a href='file:///~/opt/anaconda3/lib/python3.9/site-packages/pandas/io/excel/_base.py?line=464'>465</a>\u001b[0m     data \u001b[39m=\u001b[39m io\u001b[39m.\u001b[39;49mparse(\n\u001b[1;32m    <a href='file:///~/opt/anaconda3/lib/python3.9/site-packages/pandas/io/excel/_base.py?line=465'>466</a>\u001b[0m         sheet_name\u001b[39m=\u001b[39;49msheet_name,\n\u001b[1;32m    <a href='file:///~/opt/anaconda3/lib/python3.9/site-packages/pandas/io/excel/_base.py?line=466'>467</a>\u001b[0m         header\u001b[39m=\u001b[39;49mheader,\n\u001b[1;32m    <a href='file:///~/opt/anaconda3/lib/python3.9/site-packages/pandas/io/excel/_base.py?line=467'>468</a>\u001b[0m         names\u001b[39m=\u001b[39;49mnames,\n\u001b[1;32m    <a href='file:///~/opt/anaconda3/lib/python3.9/site-packages/pandas/io/excel/_base.py?line=468'>469</a>\u001b[0m         index_col\u001b[39m=\u001b[39;49mindex_col,\n\u001b[1;32m    <a href='file:///~/opt/anaconda3/lib/python3.9/site-packages/pandas/io/excel/_base.py?line=469'>470</a>\u001b[0m         usecols\u001b[39m=\u001b[39;49musecols,\n\u001b[1;32m    <a href='file:///~/opt/anaconda3/lib/python3.9/site-packages/pandas/io/excel/_base.py?line=470'>471</a>\u001b[0m         squeeze\u001b[39m=\u001b[39;49msqueeze,\n\u001b[1;32m    <a href='file:///~/opt/anaconda3/lib/python3.9/site-packages/pandas/io/excel/_base.py?line=471'>472</a>\u001b[0m         dtype\u001b[39m=\u001b[39;49mdtype,\n\u001b[1;32m    <a href='file:///~/opt/anaconda3/lib/python3.9/site-packages/pandas/io/excel/_base.py?line=472'>473</a>\u001b[0m         converters\u001b[39m=\u001b[39;49mconverters,\n\u001b[1;32m    <a href='file:///~/opt/anaconda3/lib/python3.9/site-packages/pandas/io/excel/_base.py?line=473'>474</a>\u001b[0m         true_values\u001b[39m=\u001b[39;49mtrue_values,\n\u001b[1;32m    <a href='file:///~/opt/anaconda3/lib/python3.9/site-packages/pandas/io/excel/_base.py?line=474'>475</a>\u001b[0m         false_values\u001b[39m=\u001b[39;49mfalse_values,\n\u001b[1;32m    <a href='file:///~/opt/anaconda3/lib/python3.9/site-packages/pandas/io/excel/_base.py?line=475'>476</a>\u001b[0m         skiprows\u001b[39m=\u001b[39;49mskiprows,\n\u001b[1;32m    <a href='file:///~/opt/anaconda3/lib/python3.9/site-packages/pandas/io/excel/_base.py?line=476'>477</a>\u001b[0m         nrows\u001b[39m=\u001b[39;49mnrows,\n\u001b[1;32m    <a href='file:///~/opt/anaconda3/lib/python3.9/site-packages/pandas/io/excel/_base.py?line=477'>478</a>\u001b[0m         na_values\u001b[39m=\u001b[39;49mna_values,\n\u001b[1;32m    <a href='file:///~/opt/anaconda3/lib/python3.9/site-packages/pandas/io/excel/_base.py?line=478'>479</a>\u001b[0m         keep_default_na\u001b[39m=\u001b[39;49mkeep_default_na,\n\u001b[1;32m    <a href='file:///~/opt/anaconda3/lib/python3.9/site-packages/pandas/io/excel/_base.py?line=479'>480</a>\u001b[0m         na_filter\u001b[39m=\u001b[39;49mna_filter,\n\u001b[1;32m    <a href='file:///~/opt/anaconda3/lib/python3.9/site-packages/pandas/io/excel/_base.py?line=480'>481</a>\u001b[0m         verbose\u001b[39m=\u001b[39;49mverbose,\n\u001b[1;32m    <a href='file:///~/opt/anaconda3/lib/python3.9/site-packages/pandas/io/excel/_base.py?line=481'>482</a>\u001b[0m         parse_dates\u001b[39m=\u001b[39;49mparse_dates,\n\u001b[1;32m    <a href='file:///~/opt/anaconda3/lib/python3.9/site-packages/pandas/io/excel/_base.py?line=482'>483</a>\u001b[0m         date_parser\u001b[39m=\u001b[39;49mdate_parser,\n\u001b[1;32m    <a href='file:///~/opt/anaconda3/lib/python3.9/site-packages/pandas/io/excel/_base.py?line=483'>484</a>\u001b[0m         thousands\u001b[39m=\u001b[39;49mthousands,\n\u001b[1;32m    <a href='file:///~/opt/anaconda3/lib/python3.9/site-packages/pandas/io/excel/_base.py?line=484'>485</a>\u001b[0m         decimal\u001b[39m=\u001b[39;49mdecimal,\n\u001b[1;32m    <a href='file:///~/opt/anaconda3/lib/python3.9/site-packages/pandas/io/excel/_base.py?line=485'>486</a>\u001b[0m         comment\u001b[39m=\u001b[39;49mcomment,\n\u001b[1;32m    <a href='file:///~/opt/anaconda3/lib/python3.9/site-packages/pandas/io/excel/_base.py?line=486'>487</a>\u001b[0m         skipfooter\u001b[39m=\u001b[39;49mskipfooter,\n\u001b[1;32m    <a href='file:///~/opt/anaconda3/lib/python3.9/site-packages/pandas/io/excel/_base.py?line=487'>488</a>\u001b[0m         convert_float\u001b[39m=\u001b[39;49mconvert_float,\n\u001b[1;32m    <a href='file:///~/opt/anaconda3/lib/python3.9/site-packages/pandas/io/excel/_base.py?line=488'>489</a>\u001b[0m         mangle_dupe_cols\u001b[39m=\u001b[39;49mmangle_dupe_cols,\n\u001b[1;32m    <a href='file:///~/opt/anaconda3/lib/python3.9/site-packages/pandas/io/excel/_base.py?line=489'>490</a>\u001b[0m     )\n\u001b[1;32m    <a href='file:///~/opt/anaconda3/lib/python3.9/site-packages/pandas/io/excel/_base.py?line=490'>491</a>\u001b[0m \u001b[39mfinally\u001b[39;00m:\n\u001b[1;32m    <a href='file:///~/opt/anaconda3/lib/python3.9/site-packages/pandas/io/excel/_base.py?line=491'>492</a>\u001b[0m     \u001b[39m# make sure to close opened file handles\u001b[39;00m\n\u001b[1;32m    <a href='file:///~/opt/anaconda3/lib/python3.9/site-packages/pandas/io/excel/_base.py?line=492'>493</a>\u001b[0m     \u001b[39mif\u001b[39;00m should_close:\n",
      "File \u001b[0;32m~/opt/anaconda3/lib/python3.9/site-packages/pandas/io/excel/_base.py:1458\u001b[0m, in \u001b[0;36mExcelFile.parse\u001b[0;34m(self, sheet_name, header, names, index_col, usecols, squeeze, converters, true_values, false_values, skiprows, nrows, na_values, parse_dates, date_parser, thousands, comment, skipfooter, convert_float, mangle_dupe_cols, **kwds)\u001b[0m\n\u001b[1;32m   <a href='file:///~/opt/anaconda3/lib/python3.9/site-packages/pandas/io/excel/_base.py?line=1423'>1424</a>\u001b[0m \u001b[39mdef\u001b[39;00m \u001b[39mparse\u001b[39m(\n\u001b[1;32m   <a href='file:///~/opt/anaconda3/lib/python3.9/site-packages/pandas/io/excel/_base.py?line=1424'>1425</a>\u001b[0m     \u001b[39mself\u001b[39m,\n\u001b[1;32m   <a href='file:///~/opt/anaconda3/lib/python3.9/site-packages/pandas/io/excel/_base.py?line=1425'>1426</a>\u001b[0m     sheet_name: \u001b[39mstr\u001b[39m \u001b[39m|\u001b[39m \u001b[39mint\u001b[39m \u001b[39m|\u001b[39m \u001b[39mlist\u001b[39m[\u001b[39mint\u001b[39m] \u001b[39m|\u001b[39m \u001b[39mlist\u001b[39m[\u001b[39mstr\u001b[39m] \u001b[39m|\u001b[39m \u001b[39mNone\u001b[39;00m \u001b[39m=\u001b[39m \u001b[39m0\u001b[39m,\n\u001b[0;32m   (...)\u001b[0m\n\u001b[1;32m   <a href='file:///~/opt/anaconda3/lib/python3.9/site-packages/pandas/io/excel/_base.py?line=1444'>1445</a>\u001b[0m     \u001b[39m*\u001b[39m\u001b[39m*\u001b[39mkwds,\n\u001b[1;32m   <a href='file:///~/opt/anaconda3/lib/python3.9/site-packages/pandas/io/excel/_base.py?line=1445'>1446</a>\u001b[0m ) \u001b[39m-\u001b[39m\u001b[39m>\u001b[39m DataFrame \u001b[39m|\u001b[39m \u001b[39mdict\u001b[39m[\u001b[39mstr\u001b[39m, DataFrame] \u001b[39m|\u001b[39m \u001b[39mdict\u001b[39m[\u001b[39mint\u001b[39m, DataFrame]:\n\u001b[1;32m   <a href='file:///~/opt/anaconda3/lib/python3.9/site-packages/pandas/io/excel/_base.py?line=1446'>1447</a>\u001b[0m     \u001b[39m\"\"\"\u001b[39;00m\n\u001b[1;32m   <a href='file:///~/opt/anaconda3/lib/python3.9/site-packages/pandas/io/excel/_base.py?line=1447'>1448</a>\u001b[0m \u001b[39m    Parse specified sheet(s) into a DataFrame.\u001b[39;00m\n\u001b[1;32m   <a href='file:///~/opt/anaconda3/lib/python3.9/site-packages/pandas/io/excel/_base.py?line=1448'>1449</a>\u001b[0m \n\u001b[0;32m   (...)\u001b[0m\n\u001b[1;32m   <a href='file:///~/opt/anaconda3/lib/python3.9/site-packages/pandas/io/excel/_base.py?line=1455'>1456</a>\u001b[0m \u001b[39m        DataFrame from the passed in Excel file.\u001b[39;00m\n\u001b[1;32m   <a href='file:///~/opt/anaconda3/lib/python3.9/site-packages/pandas/io/excel/_base.py?line=1456'>1457</a>\u001b[0m \u001b[39m    \"\"\"\u001b[39;00m\n\u001b[0;32m-> <a href='file:///~/opt/anaconda3/lib/python3.9/site-packages/pandas/io/excel/_base.py?line=1457'>1458</a>\u001b[0m     \u001b[39mreturn\u001b[39;00m \u001b[39mself\u001b[39;49m\u001b[39m.\u001b[39;49m_reader\u001b[39m.\u001b[39;49mparse(\n\u001b[1;32m   <a href='file:///~/opt/anaconda3/lib/python3.9/site-packages/pandas/io/excel/_base.py?line=1458'>1459</a>\u001b[0m         sheet_name\u001b[39m=\u001b[39;49msheet_name,\n\u001b[1;32m   <a href='file:///~/opt/anaconda3/lib/python3.9/site-packages/pandas/io/excel/_base.py?line=1459'>1460</a>\u001b[0m         header\u001b[39m=\u001b[39;49mheader,\n\u001b[1;32m   <a href='file:///~/opt/anaconda3/lib/python3.9/site-packages/pandas/io/excel/_base.py?line=1460'>1461</a>\u001b[0m         names\u001b[39m=\u001b[39;49mnames,\n\u001b[1;32m   <a href='file:///~/opt/anaconda3/lib/python3.9/site-packages/pandas/io/excel/_base.py?line=1461'>1462</a>\u001b[0m         index_col\u001b[39m=\u001b[39;49mindex_col,\n\u001b[1;32m   <a href='file:///~/opt/anaconda3/lib/python3.9/site-packages/pandas/io/excel/_base.py?line=1462'>1463</a>\u001b[0m         usecols\u001b[39m=\u001b[39;49musecols,\n\u001b[1;32m   <a href='file:///~/opt/anaconda3/lib/python3.9/site-packages/pandas/io/excel/_base.py?line=1463'>1464</a>\u001b[0m         squeeze\u001b[39m=\u001b[39;49msqueeze,\n\u001b[1;32m   <a href='file:///~/opt/anaconda3/lib/python3.9/site-packages/pandas/io/excel/_base.py?line=1464'>1465</a>\u001b[0m         converters\u001b[39m=\u001b[39;49mconverters,\n\u001b[1;32m   <a href='file:///~/opt/anaconda3/lib/python3.9/site-packages/pandas/io/excel/_base.py?line=1465'>1466</a>\u001b[0m         true_values\u001b[39m=\u001b[39;49mtrue_values,\n\u001b[1;32m   <a href='file:///~/opt/anaconda3/lib/python3.9/site-packages/pandas/io/excel/_base.py?line=1466'>1467</a>\u001b[0m         false_values\u001b[39m=\u001b[39;49mfalse_values,\n\u001b[1;32m   <a href='file:///~/opt/anaconda3/lib/python3.9/site-packages/pandas/io/excel/_base.py?line=1467'>1468</a>\u001b[0m         skiprows\u001b[39m=\u001b[39;49mskiprows,\n\u001b[1;32m   <a href='file:///~/opt/anaconda3/lib/python3.9/site-packages/pandas/io/excel/_base.py?line=1468'>1469</a>\u001b[0m         nrows\u001b[39m=\u001b[39;49mnrows,\n\u001b[1;32m   <a href='file:///~/opt/anaconda3/lib/python3.9/site-packages/pandas/io/excel/_base.py?line=1469'>1470</a>\u001b[0m         na_values\u001b[39m=\u001b[39;49mna_values,\n\u001b[1;32m   <a href='file:///~/opt/anaconda3/lib/python3.9/site-packages/pandas/io/excel/_base.py?line=1470'>1471</a>\u001b[0m         parse_dates\u001b[39m=\u001b[39;49mparse_dates,\n\u001b[1;32m   <a href='file:///~/opt/anaconda3/lib/python3.9/site-packages/pandas/io/excel/_base.py?line=1471'>1472</a>\u001b[0m         date_parser\u001b[39m=\u001b[39;49mdate_parser,\n\u001b[1;32m   <a href='file:///~/opt/anaconda3/lib/python3.9/site-packages/pandas/io/excel/_base.py?line=1472'>1473</a>\u001b[0m         thousands\u001b[39m=\u001b[39;49mthousands,\n\u001b[1;32m   <a href='file:///~/opt/anaconda3/lib/python3.9/site-packages/pandas/io/excel/_base.py?line=1473'>1474</a>\u001b[0m         comment\u001b[39m=\u001b[39;49mcomment,\n\u001b[1;32m   <a href='file:///~/opt/anaconda3/lib/python3.9/site-packages/pandas/io/excel/_base.py?line=1474'>1475</a>\u001b[0m         skipfooter\u001b[39m=\u001b[39;49mskipfooter,\n\u001b[1;32m   <a href='file:///~/opt/anaconda3/lib/python3.9/site-packages/pandas/io/excel/_base.py?line=1475'>1476</a>\u001b[0m         convert_float\u001b[39m=\u001b[39;49mconvert_float,\n\u001b[1;32m   <a href='file:///~/opt/anaconda3/lib/python3.9/site-packages/pandas/io/excel/_base.py?line=1476'>1477</a>\u001b[0m         mangle_dupe_cols\u001b[39m=\u001b[39;49mmangle_dupe_cols,\n\u001b[1;32m   <a href='file:///~/opt/anaconda3/lib/python3.9/site-packages/pandas/io/excel/_base.py?line=1477'>1478</a>\u001b[0m         \u001b[39m*\u001b[39;49m\u001b[39m*\u001b[39;49mkwds,\n\u001b[1;32m   <a href='file:///~/opt/anaconda3/lib/python3.9/site-packages/pandas/io/excel/_base.py?line=1478'>1479</a>\u001b[0m     )\n",
      "File \u001b[0;32m~/opt/anaconda3/lib/python3.9/site-packages/pandas/io/excel/_base.py:638\u001b[0m, in \u001b[0;36mBaseExcelReader.parse\u001b[0;34m(self, sheet_name, header, names, index_col, usecols, squeeze, dtype, true_values, false_values, skiprows, nrows, na_values, verbose, parse_dates, date_parser, thousands, decimal, comment, skipfooter, convert_float, mangle_dupe_cols, **kwds)\u001b[0m\n\u001b[1;32m    <a href='file:///~/opt/anaconda3/lib/python3.9/site-packages/pandas/io/excel/_base.py?line=634'>635</a>\u001b[0m \u001b[39melse\u001b[39;00m:  \u001b[39m# assume an integer if not a string\u001b[39;00m\n\u001b[1;32m    <a href='file:///~/opt/anaconda3/lib/python3.9/site-packages/pandas/io/excel/_base.py?line=635'>636</a>\u001b[0m     sheet \u001b[39m=\u001b[39m \u001b[39mself\u001b[39m\u001b[39m.\u001b[39mget_sheet_by_index(asheetname)\n\u001b[0;32m--> <a href='file:///~/opt/anaconda3/lib/python3.9/site-packages/pandas/io/excel/_base.py?line=637'>638</a>\u001b[0m data \u001b[39m=\u001b[39m \u001b[39mself\u001b[39;49m\u001b[39m.\u001b[39;49mget_sheet_data(sheet, convert_float)\n\u001b[1;32m    <a href='file:///~/opt/anaconda3/lib/python3.9/site-packages/pandas/io/excel/_base.py?line=638'>639</a>\u001b[0m \u001b[39mif\u001b[39;00m \u001b[39mhasattr\u001b[39m(sheet, \u001b[39m\"\u001b[39m\u001b[39mclose\u001b[39m\u001b[39m\"\u001b[39m):\n\u001b[1;32m    <a href='file:///~/opt/anaconda3/lib/python3.9/site-packages/pandas/io/excel/_base.py?line=639'>640</a>\u001b[0m     \u001b[39m# pyxlsb opens two TemporaryFiles\u001b[39;00m\n\u001b[1;32m    <a href='file:///~/opt/anaconda3/lib/python3.9/site-packages/pandas/io/excel/_base.py?line=640'>641</a>\u001b[0m     sheet\u001b[39m.\u001b[39mclose()\n",
      "File \u001b[0;32m~/opt/anaconda3/lib/python3.9/site-packages/pandas/io/excel/_openpyxl.py:575\u001b[0m, in \u001b[0;36mOpenpyxlReader.get_sheet_data\u001b[0;34m(self, sheet, convert_float)\u001b[0m\n\u001b[1;32m    <a href='file:///~/opt/anaconda3/lib/python3.9/site-packages/pandas/io/excel/_openpyxl.py?line=572'>573</a>\u001b[0m data: \u001b[39mlist\u001b[39m[\u001b[39mlist\u001b[39m[Scalar]] \u001b[39m=\u001b[39m []\n\u001b[1;32m    <a href='file:///~/opt/anaconda3/lib/python3.9/site-packages/pandas/io/excel/_openpyxl.py?line=573'>574</a>\u001b[0m last_row_with_data \u001b[39m=\u001b[39m \u001b[39m-\u001b[39m\u001b[39m1\u001b[39m\n\u001b[0;32m--> <a href='file:///~/opt/anaconda3/lib/python3.9/site-packages/pandas/io/excel/_openpyxl.py?line=574'>575</a>\u001b[0m \u001b[39mfor\u001b[39;00m row_number, row \u001b[39min\u001b[39;00m \u001b[39menumerate\u001b[39m(sheet\u001b[39m.\u001b[39mrows):\n\u001b[1;32m    <a href='file:///~/opt/anaconda3/lib/python3.9/site-packages/pandas/io/excel/_openpyxl.py?line=575'>576</a>\u001b[0m     converted_row \u001b[39m=\u001b[39m [\u001b[39mself\u001b[39m\u001b[39m.\u001b[39m_convert_cell(cell, convert_float) \u001b[39mfor\u001b[39;00m cell \u001b[39min\u001b[39;00m row]\n\u001b[1;32m    <a href='file:///~/opt/anaconda3/lib/python3.9/site-packages/pandas/io/excel/_openpyxl.py?line=576'>577</a>\u001b[0m     \u001b[39mwhile\u001b[39;00m converted_row \u001b[39mand\u001b[39;00m converted_row[\u001b[39m-\u001b[39m\u001b[39m1\u001b[39m] \u001b[39m==\u001b[39m \u001b[39m\"\u001b[39m\u001b[39m\"\u001b[39m:\n\u001b[1;32m    <a href='file:///~/opt/anaconda3/lib/python3.9/site-packages/pandas/io/excel/_openpyxl.py?line=577'>578</a>\u001b[0m         \u001b[39m# trim trailing empty elements\u001b[39;00m\n",
      "File \u001b[0;32m~/opt/anaconda3/lib/python3.9/site-packages/openpyxl/worksheet/_read_only.py:79\u001b[0m, in \u001b[0;36mReadOnlyWorksheet._cells_by_row\u001b[0;34m(self, min_col, min_row, max_col, max_row, values_only)\u001b[0m\n\u001b[1;32m     <a href='file:///~/opt/anaconda3/lib/python3.9/site-packages/openpyxl/worksheet/_read_only.py?line=74'>75</a>\u001b[0m src \u001b[39m=\u001b[39m \u001b[39mself\u001b[39m\u001b[39m.\u001b[39m_get_source()\n\u001b[1;32m     <a href='file:///~/opt/anaconda3/lib/python3.9/site-packages/openpyxl/worksheet/_read_only.py?line=75'>76</a>\u001b[0m parser \u001b[39m=\u001b[39m WorkSheetParser(src, \u001b[39mself\u001b[39m\u001b[39m.\u001b[39m_shared_strings,\n\u001b[1;32m     <a href='file:///~/opt/anaconda3/lib/python3.9/site-packages/openpyxl/worksheet/_read_only.py?line=76'>77</a>\u001b[0m                          data_only\u001b[39m=\u001b[39m\u001b[39mself\u001b[39m\u001b[39m.\u001b[39mparent\u001b[39m.\u001b[39mdata_only, epoch\u001b[39m=\u001b[39m\u001b[39mself\u001b[39m\u001b[39m.\u001b[39mparent\u001b[39m.\u001b[39mepoch,\n\u001b[1;32m     <a href='file:///~/opt/anaconda3/lib/python3.9/site-packages/openpyxl/worksheet/_read_only.py?line=77'>78</a>\u001b[0m                          date_formats\u001b[39m=\u001b[39m\u001b[39mself\u001b[39m\u001b[39m.\u001b[39mparent\u001b[39m.\u001b[39m_date_formats)\n\u001b[0;32m---> <a href='file:///~/opt/anaconda3/lib/python3.9/site-packages/openpyxl/worksheet/_read_only.py?line=78'>79</a>\u001b[0m \u001b[39mfor\u001b[39;00m idx, row \u001b[39min\u001b[39;00m parser\u001b[39m.\u001b[39mparse():\n\u001b[1;32m     <a href='file:///~/opt/anaconda3/lib/python3.9/site-packages/openpyxl/worksheet/_read_only.py?line=79'>80</a>\u001b[0m     \u001b[39mif\u001b[39;00m max_row \u001b[39mis\u001b[39;00m \u001b[39mnot\u001b[39;00m \u001b[39mNone\u001b[39;00m \u001b[39mand\u001b[39;00m idx \u001b[39m>\u001b[39m max_row:\n\u001b[1;32m     <a href='file:///~/opt/anaconda3/lib/python3.9/site-packages/openpyxl/worksheet/_read_only.py?line=80'>81</a>\u001b[0m         \u001b[39mbreak\u001b[39;00m\n",
      "File \u001b[0;32m~/opt/anaconda3/lib/python3.9/site-packages/openpyxl/worksheet/_reader.py:155\u001b[0m, in \u001b[0;36mWorkSheetParser.parse\u001b[0;34m(self)\u001b[0m\n\u001b[1;32m    <a href='file:///~/opt/anaconda3/lib/python3.9/site-packages/openpyxl/worksheet/_reader.py?line=152'>153</a>\u001b[0m     element\u001b[39m.\u001b[39mclear()\n\u001b[1;32m    <a href='file:///~/opt/anaconda3/lib/python3.9/site-packages/openpyxl/worksheet/_reader.py?line=153'>154</a>\u001b[0m \u001b[39melif\u001b[39;00m tag_name \u001b[39m==\u001b[39m ROW_TAG:\n\u001b[0;32m--> <a href='file:///~/opt/anaconda3/lib/python3.9/site-packages/openpyxl/worksheet/_reader.py?line=154'>155</a>\u001b[0m     row \u001b[39m=\u001b[39m \u001b[39mself\u001b[39;49m\u001b[39m.\u001b[39;49mparse_row(element)\n\u001b[1;32m    <a href='file:///~/opt/anaconda3/lib/python3.9/site-packages/openpyxl/worksheet/_reader.py?line=155'>156</a>\u001b[0m     element\u001b[39m.\u001b[39mclear()\n\u001b[1;32m    <a href='file:///~/opt/anaconda3/lib/python3.9/site-packages/openpyxl/worksheet/_reader.py?line=156'>157</a>\u001b[0m     \u001b[39myield\u001b[39;00m row\n",
      "File \u001b[0;32m~/opt/anaconda3/lib/python3.9/site-packages/openpyxl/worksheet/_reader.py:286\u001b[0m, in \u001b[0;36mWorkSheetParser.parse_row\u001b[0;34m(self, row)\u001b[0m\n\u001b[1;32m    <a href='file:///~/opt/anaconda3/lib/python3.9/site-packages/openpyxl/worksheet/_reader.py?line=281'>282</a>\u001b[0m \u001b[39mif\u001b[39;00m keys \u001b[39m-\u001b[39m {\u001b[39m'\u001b[39m\u001b[39mr\u001b[39m\u001b[39m'\u001b[39m, \u001b[39m'\u001b[39m\u001b[39mspans\u001b[39m\u001b[39m'\u001b[39m}:\n\u001b[1;32m    <a href='file:///~/opt/anaconda3/lib/python3.9/site-packages/openpyxl/worksheet/_reader.py?line=282'>283</a>\u001b[0m     \u001b[39m# don't create dimension objects unless they have relevant information\u001b[39;00m\n\u001b[1;32m    <a href='file:///~/opt/anaconda3/lib/python3.9/site-packages/openpyxl/worksheet/_reader.py?line=283'>284</a>\u001b[0m     \u001b[39mself\u001b[39m\u001b[39m.\u001b[39mrow_dimensions[\u001b[39mstr\u001b[39m(\u001b[39mself\u001b[39m\u001b[39m.\u001b[39mrow_counter)] \u001b[39m=\u001b[39m attrs\n\u001b[0;32m--> <a href='file:///~/opt/anaconda3/lib/python3.9/site-packages/openpyxl/worksheet/_reader.py?line=285'>286</a>\u001b[0m cells \u001b[39m=\u001b[39m [\u001b[39mself\u001b[39m\u001b[39m.\u001b[39mparse_cell(el) \u001b[39mfor\u001b[39;00m el \u001b[39min\u001b[39;00m row]\n\u001b[1;32m    <a href='file:///~/opt/anaconda3/lib/python3.9/site-packages/openpyxl/worksheet/_reader.py?line=286'>287</a>\u001b[0m \u001b[39mreturn\u001b[39;00m \u001b[39mself\u001b[39m\u001b[39m.\u001b[39mrow_counter, cells\n",
      "File \u001b[0;32m~/opt/anaconda3/lib/python3.9/site-packages/openpyxl/worksheet/_reader.py:286\u001b[0m, in \u001b[0;36m<listcomp>\u001b[0;34m(.0)\u001b[0m\n\u001b[1;32m    <a href='file:///~/opt/anaconda3/lib/python3.9/site-packages/openpyxl/worksheet/_reader.py?line=281'>282</a>\u001b[0m \u001b[39mif\u001b[39;00m keys \u001b[39m-\u001b[39m {\u001b[39m'\u001b[39m\u001b[39mr\u001b[39m\u001b[39m'\u001b[39m, \u001b[39m'\u001b[39m\u001b[39mspans\u001b[39m\u001b[39m'\u001b[39m}:\n\u001b[1;32m    <a href='file:///~/opt/anaconda3/lib/python3.9/site-packages/openpyxl/worksheet/_reader.py?line=282'>283</a>\u001b[0m     \u001b[39m# don't create dimension objects unless they have relevant information\u001b[39;00m\n\u001b[1;32m    <a href='file:///~/opt/anaconda3/lib/python3.9/site-packages/openpyxl/worksheet/_reader.py?line=283'>284</a>\u001b[0m     \u001b[39mself\u001b[39m\u001b[39m.\u001b[39mrow_dimensions[\u001b[39mstr\u001b[39m(\u001b[39mself\u001b[39m\u001b[39m.\u001b[39mrow_counter)] \u001b[39m=\u001b[39m attrs\n\u001b[0;32m--> <a href='file:///~/opt/anaconda3/lib/python3.9/site-packages/openpyxl/worksheet/_reader.py?line=285'>286</a>\u001b[0m cells \u001b[39m=\u001b[39m [\u001b[39mself\u001b[39;49m\u001b[39m.\u001b[39mparse_cell(el) \u001b[39mfor\u001b[39;00m el \u001b[39min\u001b[39;00m row]\n\u001b[1;32m    <a href='file:///~/opt/anaconda3/lib/python3.9/site-packages/openpyxl/worksheet/_reader.py?line=286'>287</a>\u001b[0m \u001b[39mreturn\u001b[39;00m \u001b[39mself\u001b[39m\u001b[39m.\u001b[39mrow_counter, cells\n",
      "\u001b[0;31mKeyboardInterrupt\u001b[0m: "
     ]
    }
   ],
   "source": [
    "exp_1 = pd.read_excel(\"EXP-00001-Master.xlsx\")"
   ]
  },
  {
   "cell_type": "code",
   "execution_count": null,
   "metadata": {},
   "outputs": [],
   "source": [
    "exp_2 = pd.read_excel('EXP-00002-Master.xlsx')"
   ]
  },
  {
   "cell_type": "code",
   "execution_count": null,
   "metadata": {},
   "outputs": [],
   "source": [
    "exp_3 = pd.read_excel('EXP-00003-Master.xlsx')"
   ]
  },
  {
   "cell_type": "code",
   "execution_count": null,
   "metadata": {},
   "outputs": [],
   "source": [
    "exp_4 = pd.read_excel('EXP-00004-Master.xlsx')\n",
    "exp_5 = pd.read_excel('EXP-00004-Master.xlsx')"
   ]
  },
  {
   "cell_type": "code",
   "execution_count": null,
   "metadata": {},
   "outputs": [],
   "source": [
    "\n",
    "exp_1.drop(index=0, inplace=True)\n",
    "exp_2.drop(index=0, inplace=True)\n",
    "exp_3.drop(index=0, inplace=True)\n",
    "exp_4.drop(index = 0, inplace = True)\n",
    "exp_5.drop(index = 0, inplace= True)\n",
    "\n",
    "exp_1.reset_index(drop=True, inplace=True)\n",
    "exp_2.reset_index(drop=True, inplace=True)\n",
    "exp_3.reset_index(drop=True, inplace=True)\n",
    "exp_4.reset_index(drop=True, inplace=True)\n",
    "exp_5.reset_index(drop=True, inplace=True)"
   ]
  },
  {
   "cell_type": "markdown",
   "metadata": {},
   "source": [
    "['Id', 'Img Id', 'Da', 'Dp', 'FWidth', 'FLength', 'FThickness',\n",
    "       'ELength', 'EThickness', 'EWidth', 'Volume', 'Area', 'Perimeter',\n",
    "       'CHull  Area', 'CHull Perimeter', 'Sphericity', 'L/T Ratio',\n",
    "       'T/L Aspect Ratio', 'Compactness', 'Roundness', 'Ellipse Ratio',\n",
    "       'Circularity', 'Solidity', 'Concavity', 'Convexity', 'Extent', 'hash',\n",
    "       'Surface Area', 'Filter0', 'Filter1', 'Filter2', 'Filter3', 'Filter4',\n",
    "       'Filter5', 'Filter6', 'L/W Ratio', 'W/L Ratio', 'W/T Ratio',\n",
    "       'T/W Ratio', 'CHull Surface Area', 'Sieve', 'Ellipticity',\n",
    "       'Fiber Length', 'Fiber Width'],"
   ]
  },
  {
   "cell_type": "code",
   "execution_count": null,
   "metadata": {},
   "outputs": [
    {
     "data": {
      "text/plain": [
       "Index(['Id', 'Img Id', 'Da', 'Dp', 'FWidth', 'FLength', 'FThickness',\n",
       "       'ELength', 'EThickness', 'EWidth', 'Volume', 'Area', 'Perimeter',\n",
       "       'CHull  Area', 'CHull Perimeter', 'Sphericity', 'L/T Ratio',\n",
       "       'T/L Aspect Ratio', 'Compactness', 'Roundness', 'Ellipse Ratio',\n",
       "       'Circularity', 'Solidity', 'Concavity', 'Convexity', 'Extent', 'hash',\n",
       "       'Transparency', 'Curvature', 'Surface Area', 'Filter0', 'Filter1',\n",
       "       'Filter2', 'Filter3', 'Filter4', 'Filter5', 'Filter6', 'L/W Ratio',\n",
       "       'W/L Ratio', 'W/T Ratio', 'T/W Ratio', 'CHull Surface Area', 'Sieve',\n",
       "       'Angularity', 'Ellipticity', 'Fiber Length', 'Fiber Width'],\n",
       "      dtype='object')"
      ]
     },
     "execution_count": 8,
     "metadata": {},
     "output_type": "execute_result"
    }
   ],
   "source": [
    "# exp_1.groupby(['Id'])['Id'].count()\n",
    "# exp_1[exp_1['Id'] == 1]\n",
    "# #Dropping Id column since it's not relevant\n",
    "\n",
    "# exp_1.groupby(['Filter0']).count()\n",
    "# exp_2.groupby(['Filter0']).count()\n",
    "# exp_3.groupby(['Filter0']).count()\n",
    "\n",
    "# exp_1.groupby(['Filter1']).count()\n",
    "# exp_2.groupby(['Filter1']).count()\n",
    "# exp_3.groupby(['Filter1']).count()\n",
    "\n",
    "# exp_1.groupby(['Filter2']).count()\n",
    "# exp_2.groupby(['Filter2']).count()\n",
    "# exp_3.groupby(['Filter2']).count()\n",
    "\n",
    "# exp_1.groupby(['Filter3']).count()\n",
    "# exp_2.groupby(['Filter3']).count()\n",
    "# exp_3.groupby(['Filter3']).count()\n",
    "\n",
    "\n",
    "# exp_1.groupby(['Filter4']).count()\n",
    "# exp_2.groupby(['Filter4']).count()\n",
    "# exp_3.groupby(['Filter4']).count()\n",
    "\n",
    "# exp_1.groupby(['Filter5']).count()\n",
    "# exp_2.groupby(['Filter5']).count()\n",
    "# exp_3.groupby(['Filter5']).count()\n",
    "\n",
    "# exp_1.groupby(['Filter6']).count()\n",
    "# exp_2.groupby(['Filter6']).count()\n",
    "# exp_3.groupby(['Filter6']).count()\n",
    "\n",
    "#All filters contain reject for all filter columns, they are getting dropped\n",
    "\n",
    "# exp_1.groupby(['hash']).count()\n",
    "# exp_2.groupby(['hash']).count()\n",
    "# exp_3.groupby(['hash']).count()\n",
    "# Dropping hash, all values are 0\n",
    "\n",
    "#Img Id doesn't seem to provide good values\n",
    "\n",
    "exp_5.columns"
   ]
  },
  {
   "cell_type": "code",
   "execution_count": null,
   "metadata": {},
   "outputs": [
    {
     "name": "stderr",
     "output_type": "stream",
     "text": [
      "/var/folders/hx/pqx1jktn7hs7y0_68_bzk__m0000gn/T/ipykernel_6837/4217849102.py:12: SettingWithCopyWarning: \n",
      "A value is trying to be set on a copy of a slice from a DataFrame.\n",
      "Try using .loc[row_indexer,col_indexer] = value instead\n",
      "\n",
      "See the caveats in the documentation: https://pandas.pydata.org/pandas-docs/stable/user_guide/indexing.html#returning-a-view-versus-a-copy\n",
      "  exp_1_filtered['Production Stage'] = 0\n",
      "/var/folders/hx/pqx1jktn7hs7y0_68_bzk__m0000gn/T/ipykernel_6837/4217849102.py:13: SettingWithCopyWarning: \n",
      "A value is trying to be set on a copy of a slice from a DataFrame.\n",
      "Try using .loc[row_indexer,col_indexer] = value instead\n",
      "\n",
      "See the caveats in the documentation: https://pandas.pydata.org/pandas-docs/stable/user_guide/indexing.html#returning-a-view-versus-a-copy\n",
      "  exp_2_filtered['Production Stage'] = 1\n",
      "/var/folders/hx/pqx1jktn7hs7y0_68_bzk__m0000gn/T/ipykernel_6837/4217849102.py:14: SettingWithCopyWarning: \n",
      "A value is trying to be set on a copy of a slice from a DataFrame.\n",
      "Try using .loc[row_indexer,col_indexer] = value instead\n",
      "\n",
      "See the caveats in the documentation: https://pandas.pydata.org/pandas-docs/stable/user_guide/indexing.html#returning-a-view-versus-a-copy\n",
      "  exp_3_filtered['Production Stage'] = 2\n",
      "/var/folders/hx/pqx1jktn7hs7y0_68_bzk__m0000gn/T/ipykernel_6837/4217849102.py:15: SettingWithCopyWarning: \n",
      "A value is trying to be set on a copy of a slice from a DataFrame.\n",
      "Try using .loc[row_indexer,col_indexer] = value instead\n",
      "\n",
      "See the caveats in the documentation: https://pandas.pydata.org/pandas-docs/stable/user_guide/indexing.html#returning-a-view-versus-a-copy\n",
      "  exp_4_filtered['Production Stage'] = 3\n",
      "/var/folders/hx/pqx1jktn7hs7y0_68_bzk__m0000gn/T/ipykernel_6837/4217849102.py:16: SettingWithCopyWarning: \n",
      "A value is trying to be set on a copy of a slice from a DataFrame.\n",
      "Try using .loc[row_indexer,col_indexer] = value instead\n",
      "\n",
      "See the caveats in the documentation: https://pandas.pydata.org/pandas-docs/stable/user_guide/indexing.html#returning-a-view-versus-a-copy\n",
      "  exp_5_filtered['Production Stage'] = 4\n"
     ]
    }
   ],
   "source": [
    "not_included = ['Id', 'Filter0','Filter1', 'Filter2','Filter3', 'Filter4', 'Filter5', 'Filter6', 'hash', 'Img Id', 'Curvature', 'Transparency', 'Angularity']\n",
    "filtered = [x for x in exp_1.columns if x not in not_included]\n",
    "\n",
    "\n",
    "\n",
    "exp_1_filtered = exp_1[filtered]\n",
    "exp_2_filtered = exp_2[filtered]\n",
    "exp_3_filtered = exp_3[filtered]\n",
    "exp_4_filtered = exp_4[filtered]\n",
    "exp_5_filtered = exp_5[filtered]\n",
    "\n",
    "exp_1_filtered['Production Stage'] = 0\n",
    "exp_2_filtered['Production Stage'] = 1\n",
    "exp_3_filtered['Production Stage'] = 2\n",
    "exp_4_filtered['Production Stage'] = 3\n",
    "exp_5_filtered['Production Stage'] = 4"
   ]
  },
  {
   "cell_type": "code",
   "execution_count": null,
   "metadata": {},
   "outputs": [
    {
     "name": "stderr",
     "output_type": "stream",
     "text": [
      "/Users/rodrigo/opt/anaconda3/lib/python3.9/site-packages/pandas/core/reshape/merge.py:916: FutureWarning: In a future version, the Index constructor will not infer numeric dtypes when passed object-dtype sequences (matching Series behavior)\n",
      "  key_col = Index(lvals).where(~mask_left, rvals)\n",
      "/Users/rodrigo/opt/anaconda3/lib/python3.9/site-packages/pandas/core/reshape/merge.py:916: FutureWarning: In a future version, the Index constructor will not infer numeric dtypes when passed object-dtype sequences (matching Series behavior)\n",
      "  key_col = Index(lvals).where(~mask_left, rvals)\n",
      "/Users/rodrigo/opt/anaconda3/lib/python3.9/site-packages/pandas/core/reshape/merge.py:916: FutureWarning: In a future version, the Index constructor will not infer numeric dtypes when passed object-dtype sequences (matching Series behavior)\n",
      "  key_col = Index(lvals).where(~mask_left, rvals)\n",
      "/Users/rodrigo/opt/anaconda3/lib/python3.9/site-packages/pandas/core/reshape/merge.py:916: FutureWarning: In a future version, the Index constructor will not infer numeric dtypes when passed object-dtype sequences (matching Series behavior)\n",
      "  key_col = Index(lvals).where(~mask_left, rvals)\n"
     ]
    }
   ],
   "source": [
    "r1, c1 = exp_1_filtered.shape\n",
    "r2, c2 = exp_2_filtered.shape\n",
    "r3, c3  = exp_3_filtered.shape\n",
    "data = exp_1_filtered.merge(exp_2_filtered, how= 'outer')\n",
    "data\n",
    "data = data.merge(exp_3_filtered, how = 'outer')\n",
    "data = data.merge(exp_4_filtered, how = 'outer')\n",
    "data = data.merge(exp_5_filtered, how='outer')"
   ]
  },
  {
   "cell_type": "code",
   "execution_count": null,
   "metadata": {},
   "outputs": [
    {
     "data": {
      "text/plain": [
       "<AxesSubplot:>"
      ]
     },
     "execution_count": 11,
     "metadata": {},
     "output_type": "execute_result"
    },
    {
     "data": {
      "image/png": "[encoded data removed]",
      "text/plain": [
       "<Figure size 432x288 with 2 Axes>"
      ]
     },
     "metadata": {
      "needs_background": "light"
     },
     "output_type": "display_data"
    }
   ],
   "source": [
    "import seaborn as sns\n",
    "\n",
    "for x in data.columns: \n",
    "    data[x] = pd.to_numeric(data[x])\n",
    "\n",
    "sns.heatmap(data.corr())"
   ]
  },
  {
   "cell_type": "code",
   "execution_count": null,
   "metadata": {},
   "outputs": [],
   "source": [
    "s =data.corr()\n",
    "the_corr = s['Production Stage']"
   ]
  },
  {
   "cell_type": "code",
   "execution_count": null,
   "metadata": {},
   "outputs": [
    {
     "data": {
      "text/plain": [
       "Da                    0.025562\n",
       "Dp                    0.039007\n",
       "FWidth                0.013860\n",
       "FLength               0.034796\n",
       "FThickness            0.019973\n",
       "ELength               0.030728\n",
       "EThickness            0.016485\n",
       "EWidth                0.010461\n",
       "Volume               -0.001783\n",
       "Area                  0.010128\n",
       "Perimeter             0.039007\n",
       "CHull  Area           0.010623\n",
       "CHull Perimeter       0.034216\n",
       "Sphericity           -0.120339\n",
       "L/T Ratio             0.020885\n",
       "T/L Aspect Ratio     -0.030054\n",
       "Compactness          -0.046134\n",
       "Roundness            -0.049205\n",
       "Ellipse Ratio        -0.028785\n",
       "Circularity          -0.121177\n",
       "Solidity             -0.069948\n",
       "Concavity             0.069948\n",
       "Convexity            -0.110819\n",
       "Extent               -0.015434\n",
       "Surface Area          0.010128\n",
       "L/W Ratio             0.053797\n",
       "W/L Ratio            -0.056822\n",
       "W/T Ratio            -0.013822\n",
       "T/W Ratio             0.007395\n",
       "CHull Surface Area    0.010623\n",
       "Sieve                 0.016452\n",
       "Ellipticity           0.021060\n",
       "Fiber Length          0.046684\n",
       "Fiber Width           0.032074\n",
       "Production Stage      1.000000\n",
       "Name: Production Stage, dtype: float64"
      ]
     },
     "execution_count": 86,
     "metadata": {},
     "output_type": "execute_result"
    }
   ],
   "source": [
    "the_corr"
   ]
  },
  {
   "cell_type": "code",
   "execution_count": null,
   "metadata": {},
   "outputs": [
    {
     "data": {
      "text/plain": [
       "Production Stage\n",
       "0    9714\n",
       "1    9938\n",
       "2    2964\n",
       "3    7336\n",
       "4    7336\n",
       "Name: Production Stage, dtype: int64"
      ]
     },
     "execution_count": 13,
     "metadata": {},
     "output_type": "execute_result"
    }
   ],
   "source": [
    "from sklearn.model_selection import train_test_split\n",
    "\n",
    "X_train, X_test, y_train, y_test = train_test_split(\n",
    "    data[filtered],\n",
    "    data['Production Stage'],\n",
    "    test_size=0.2,\n",
    "    stratify= data['Production Stage'],\n",
    "    random_state=44)\n",
    "\n",
    "y_train.groupby(y_train).count()\n",
    "y_test.groupby(y_test).count()\n",
    "\n"
   ]
  },
  {
   "cell_type": "code",
   "execution_count": null,
   "metadata": {},
   "outputs": [],
   "source": [
    "from sklearn.neighbors import KNeighborsClassifier\n",
    "from sklearn.preprocessing import scale\n",
    "from sklearn.metrics import homogeneity_score\n",
    "from sklearn.metrics import completeness_score\n",
    "from sklearn.model_selection import GridSearchCV"
   ]
  },
  {
   "cell_type": "code",
   "execution_count": null,
   "metadata": {},
   "outputs": [],
   "source": [
    "from sklearn.model_selection import GridSearchCV\n",
    "k_range = list(range(1, 31))\n"
   ]
  },
  {
   "cell_type": "code",
   "execution_count": null,
   "metadata": {},
   "outputs": [
    {
     "data": {
      "text/plain": [
       "array([[14.28264018, 12.632766  , 12.41479586, ..., -1.29271338,\n",
       "         8.62549204, 14.10636047],\n",
       "       [12.8116952 , 11.88668882, 11.64231415, ..., -1.13903503,\n",
       "         9.64741676, 14.55787868],\n",
       "       [12.89644875, 14.24857188, 13.14035111, ..., -1.20711005,\n",
       "        12.54853299, 11.0134607 ],\n",
       "       ...,\n",
       "       [ 8.32352377,  7.18237351,  6.67532897, ..., -0.63275253,\n",
       "         6.6835737 ,  8.60428851],\n",
       "       [11.44057107,  9.55537131, 12.73425675, ..., -0.2699575 ,\n",
       "         6.72887642, 16.03498827],\n",
       "       [13.37860229, 11.53796373, 11.08280637, ..., -1.19406574,\n",
       "         7.85186104, 14.09345995]])"
      ]
     },
     "execution_count": 64,
     "metadata": {},
     "output_type": "execute_result"
    }
   ],
   "source": [
    "scaled_data"
   ]
  },
  {
   "cell_type": "code",
   "execution_count": 139,
   "metadata": {},
   "outputs": [],
   "source": [
    "model = KNeighborsClassifier(n_neighbors=5, weights= 'distance', algorithm= 'brute', leaf_size= 35, p=2)\n",
    "\n",
    "scaled_data = scale(data[filtered])\n",
    "\n",
    "\n",
    "\n",
    "model.fit(data[filtered], data[\"Production Stage\"])\n",
    "labels = data['Production Stage']\n",
    "\n",
    "random = data.sample(frac = 1)\n",
    "\n",
    "one_hundred = random[:10000]\n",
    "\n",
    "predictions = model.predict(one_hundred[filtered])\n"
   ]
  },
  {
   "cell_type": "code",
   "execution_count": 140,
   "metadata": {},
   "outputs": [
    {
     "name": "stdout",
     "output_type": "stream",
     "text": [
      "Accuracy score: 0.8049\n",
      "0.7912728625185963\n"
     ]
    }
   ],
   "source": [
    "from sklearn.metrics import accuracy_score\n",
    "from sklearn.metrics import precision_score\n",
    "\n",
    "print('Accuracy score:',accuracy_score(one_hundred['Production Stage'], predictions))\n",
    "\n",
    "print(precision_score(one_hundred['Production Stage'], predictions, average='macro'))\n",
    "\n",
    "\n",
    "\n"
   ]
  },
  {
   "cell_type": "code",
   "execution_count": 130,
   "metadata": {},
   "outputs": [
    {
     "data": {
      "text/plain": [
       "['Da',\n",
       " 'Dp',\n",
       " 'FWidth',\n",
       " 'FLength',\n",
       " 'FThickness',\n",
       " 'ELength',\n",
       " 'EThickness',\n",
       " 'EWidth',\n",
       " 'Area',\n",
       " 'Perimeter',\n",
       " 'CHull  Area',\n",
       " 'CHull Perimeter',\n",
       " 'Sphericity',\n",
       " 'L/T Ratio',\n",
       " 'T/L Aspect Ratio',\n",
       " 'Compactness',\n",
       " 'Roundness',\n",
       " 'Ellipse Ratio',\n",
       " 'Circularity',\n",
       " 'Solidity',\n",
       " 'Concavity',\n",
       " 'Convexity',\n",
       " 'Extent',\n",
       " 'L/W Ratio',\n",
       " 'W/L Ratio',\n",
       " 'W/T Ratio',\n",
       " 'CHull Surface Area',\n",
       " 'Sieve',\n",
       " 'Ellipticity',\n",
       " 'Fiber Length',\n",
       " 'Fiber Width']"
      ]
     },
     "execution_count": 130,
     "metadata": {},
     "output_type": "execute_result"
    }
   ],
   "source": [
    "Removed_features = ['T/W Ratio', 'Volume', 'Surface Area' ]\n",
    "new_setting =[x for x in filtered if x not in Removed_features]\n",
    "new_setting.append('Production Stage')\n",
    "new_data = data[new_setting]\n",
    "new_setting.pop()\n",
    "new_setting\n"
   ]
  },
  {
   "cell_type": "code",
   "execution_count": 141,
   "metadata": {},
   "outputs": [
    {
     "ename": "KeyboardInterrupt",
     "evalue": "",
     "output_type": "error",
     "traceback": [
      "\u001b[0;31m---------------------------------------------------------------------------\u001b[0m",
      "\u001b[0;31mKeyboardInterrupt\u001b[0m                         Traceback (most recent call last)",
      "\u001b[1;32m/Users/rodrigo/Downloads/bruh/FINAL/KNeighborsClassifier.ipynb Cell 21'\u001b[0m in \u001b[0;36m<cell line: 14>\u001b[0;34m()\u001b[0m\n\u001b[1;32m     <a href='vscode-notebook-cell:/Users/rodrigo/Downloads/bruh/FINAL/KNeighborsClassifier.ipynb#ch0000020?line=9'>10</a>\u001b[0m random \u001b[39m=\u001b[39m new_data\u001b[39m.\u001b[39msample(frac \u001b[39m=\u001b[39m \u001b[39m1\u001b[39m)\n\u001b[1;32m     <a href='vscode-notebook-cell:/Users/rodrigo/Downloads/bruh/FINAL/KNeighborsClassifier.ipynb#ch0000020?line=11'>12</a>\u001b[0m one_hundred \u001b[39m=\u001b[39m random[:\u001b[39m5000\u001b[39m]\n\u001b[0;32m---> <a href='vscode-notebook-cell:/Users/rodrigo/Downloads/bruh/FINAL/KNeighborsClassifier.ipynb#ch0000020?line=13'>14</a>\u001b[0m predictions \u001b[39m=\u001b[39m seven\u001b[39m.\u001b[39;49mpredict(one_hundred[new_setting])\n",
      "File \u001b[0;32m~/opt/anaconda3/lib/python3.9/site-packages/sklearn/neighbors/_classification.py:214\u001b[0m, in \u001b[0;36mKNeighborsClassifier.predict\u001b[0;34m(self, X)\u001b[0m\n\u001b[1;32m    <a href='file:///~/opt/anaconda3/lib/python3.9/site-packages/sklearn/neighbors/_classification.py?line=199'>200</a>\u001b[0m \u001b[39mdef\u001b[39;00m \u001b[39mpredict\u001b[39m(\u001b[39mself\u001b[39m, X):\n\u001b[1;32m    <a href='file:///~/opt/anaconda3/lib/python3.9/site-packages/sklearn/neighbors/_classification.py?line=200'>201</a>\u001b[0m     \u001b[39m\"\"\"Predict the class labels for the provided data.\u001b[39;00m\n\u001b[1;32m    <a href='file:///~/opt/anaconda3/lib/python3.9/site-packages/sklearn/neighbors/_classification.py?line=201'>202</a>\u001b[0m \n\u001b[1;32m    <a href='file:///~/opt/anaconda3/lib/python3.9/site-packages/sklearn/neighbors/_classification.py?line=202'>203</a>\u001b[0m \u001b[39m    Parameters\u001b[39;00m\n\u001b[0;32m   (...)\u001b[0m\n\u001b[1;32m    <a href='file:///~/opt/anaconda3/lib/python3.9/site-packages/sklearn/neighbors/_classification.py?line=211'>212</a>\u001b[0m \u001b[39m        Class labels for each data sample.\u001b[39;00m\n\u001b[1;32m    <a href='file:///~/opt/anaconda3/lib/python3.9/site-packages/sklearn/neighbors/_classification.py?line=212'>213</a>\u001b[0m \u001b[39m    \"\"\"\u001b[39;00m\n\u001b[0;32m--> <a href='file:///~/opt/anaconda3/lib/python3.9/site-packages/sklearn/neighbors/_classification.py?line=213'>214</a>\u001b[0m     neigh_dist, neigh_ind \u001b[39m=\u001b[39m \u001b[39mself\u001b[39;49m\u001b[39m.\u001b[39;49mkneighbors(X)\n\u001b[1;32m    <a href='file:///~/opt/anaconda3/lib/python3.9/site-packages/sklearn/neighbors/_classification.py?line=214'>215</a>\u001b[0m     classes_ \u001b[39m=\u001b[39m \u001b[39mself\u001b[39m\u001b[39m.\u001b[39mclasses_\n\u001b[1;32m    <a href='file:///~/opt/anaconda3/lib/python3.9/site-packages/sklearn/neighbors/_classification.py?line=215'>216</a>\u001b[0m     _y \u001b[39m=\u001b[39m \u001b[39mself\u001b[39m\u001b[39m.\u001b[39m_y\n",
      "File \u001b[0;32m~/opt/anaconda3/lib/python3.9/site-packages/sklearn/neighbors/_base.py:752\u001b[0m, in \u001b[0;36mKNeighborsMixin.kneighbors\u001b[0;34m(self, X, n_neighbors, return_distance)\u001b[0m\n\u001b[1;32m    <a href='file:///~/opt/anaconda3/lib/python3.9/site-packages/sklearn/neighbors/_base.py?line=748'>749</a>\u001b[0m     \u001b[39melse\u001b[39;00m:\n\u001b[1;32m    <a href='file:///~/opt/anaconda3/lib/python3.9/site-packages/sklearn/neighbors/_base.py?line=749'>750</a>\u001b[0m         kwds \u001b[39m=\u001b[39m \u001b[39mself\u001b[39m\u001b[39m.\u001b[39meffective_metric_params_\n\u001b[0;32m--> <a href='file:///~/opt/anaconda3/lib/python3.9/site-packages/sklearn/neighbors/_base.py?line=751'>752</a>\u001b[0m     chunked_results \u001b[39m=\u001b[39m \u001b[39mlist\u001b[39;49m(\n\u001b[1;32m    <a href='file:///~/opt/anaconda3/lib/python3.9/site-packages/sklearn/neighbors/_base.py?line=752'>753</a>\u001b[0m         pairwise_distances_chunked(\n\u001b[1;32m    <a href='file:///~/opt/anaconda3/lib/python3.9/site-packages/sklearn/neighbors/_base.py?line=753'>754</a>\u001b[0m             X,\n\u001b[1;32m    <a href='file:///~/opt/anaconda3/lib/python3.9/site-packages/sklearn/neighbors/_base.py?line=754'>755</a>\u001b[0m             \u001b[39mself\u001b[39;49m\u001b[39m.\u001b[39;49m_fit_X,\n\u001b[1;32m    <a href='file:///~/opt/anaconda3/lib/python3.9/site-packages/sklearn/neighbors/_base.py?line=755'>756</a>\u001b[0m             reduce_func\u001b[39m=\u001b[39;49mreduce_func,\n\u001b[1;32m    <a href='file:///~/opt/anaconda3/lib/python3.9/site-packages/sklearn/neighbors/_base.py?line=756'>757</a>\u001b[0m             metric\u001b[39m=\u001b[39;49m\u001b[39mself\u001b[39;49m\u001b[39m.\u001b[39;49meffective_metric_,\n\u001b[1;32m    <a href='file:///~/opt/anaconda3/lib/python3.9/site-packages/sklearn/neighbors/_base.py?line=757'>758</a>\u001b[0m             n_jobs\u001b[39m=\u001b[39;49mn_jobs,\n\u001b[1;32m    <a href='file:///~/opt/anaconda3/lib/python3.9/site-packages/sklearn/neighbors/_base.py?line=758'>759</a>\u001b[0m             \u001b[39m*\u001b[39;49m\u001b[39m*\u001b[39;49mkwds,\n\u001b[1;32m    <a href='file:///~/opt/anaconda3/lib/python3.9/site-packages/sklearn/neighbors/_base.py?line=759'>760</a>\u001b[0m         )\n\u001b[1;32m    <a href='file:///~/opt/anaconda3/lib/python3.9/site-packages/sklearn/neighbors/_base.py?line=760'>761</a>\u001b[0m     )\n\u001b[1;32m    <a href='file:///~/opt/anaconda3/lib/python3.9/site-packages/sklearn/neighbors/_base.py?line=762'>763</a>\u001b[0m \u001b[39melif\u001b[39;00m \u001b[39mself\u001b[39m\u001b[39m.\u001b[39m_fit_method \u001b[39min\u001b[39;00m [\u001b[39m\"\u001b[39m\u001b[39mball_tree\u001b[39m\u001b[39m\"\u001b[39m, \u001b[39m\"\u001b[39m\u001b[39mkd_tree\u001b[39m\u001b[39m\"\u001b[39m]:\n\u001b[1;32m    <a href='file:///~/opt/anaconda3/lib/python3.9/site-packages/sklearn/neighbors/_base.py?line=763'>764</a>\u001b[0m     \u001b[39mif\u001b[39;00m issparse(X):\n",
      "File \u001b[0;32m~/opt/anaconda3/lib/python3.9/site-packages/sklearn/metrics/pairwise.py:1717\u001b[0m, in \u001b[0;36mpairwise_distances_chunked\u001b[0;34m(X, Y, reduce_func, metric, n_jobs, working_memory, **kwds)\u001b[0m\n\u001b[1;32m   <a href='file:///~/opt/anaconda3/lib/python3.9/site-packages/sklearn/metrics/pairwise.py?line=1714'>1715</a>\u001b[0m \u001b[39melse\u001b[39;00m:\n\u001b[1;32m   <a href='file:///~/opt/anaconda3/lib/python3.9/site-packages/sklearn/metrics/pairwise.py?line=1715'>1716</a>\u001b[0m     X_chunk \u001b[39m=\u001b[39m X[sl]\n\u001b[0;32m-> <a href='file:///~/opt/anaconda3/lib/python3.9/site-packages/sklearn/metrics/pairwise.py?line=1716'>1717</a>\u001b[0m D_chunk \u001b[39m=\u001b[39m pairwise_distances(X_chunk, Y, metric\u001b[39m=\u001b[39;49mmetric, n_jobs\u001b[39m=\u001b[39;49mn_jobs, \u001b[39m*\u001b[39;49m\u001b[39m*\u001b[39;49mkwds)\n\u001b[1;32m   <a href='file:///~/opt/anaconda3/lib/python3.9/site-packages/sklearn/metrics/pairwise.py?line=1717'>1718</a>\u001b[0m \u001b[39mif\u001b[39;00m (X \u001b[39mis\u001b[39;00m Y \u001b[39mor\u001b[39;00m Y \u001b[39mis\u001b[39;00m \u001b[39mNone\u001b[39;00m) \u001b[39mand\u001b[39;00m PAIRWISE_DISTANCE_FUNCTIONS\u001b[39m.\u001b[39mget(\n\u001b[1;32m   <a href='file:///~/opt/anaconda3/lib/python3.9/site-packages/sklearn/metrics/pairwise.py?line=1718'>1719</a>\u001b[0m     metric, \u001b[39mNone\u001b[39;00m\n\u001b[1;32m   <a href='file:///~/opt/anaconda3/lib/python3.9/site-packages/sklearn/metrics/pairwise.py?line=1719'>1720</a>\u001b[0m ) \u001b[39mis\u001b[39;00m euclidean_distances:\n\u001b[1;32m   <a href='file:///~/opt/anaconda3/lib/python3.9/site-packages/sklearn/metrics/pairwise.py?line=1720'>1721</a>\u001b[0m     \u001b[39m# zeroing diagonal, taking care of aliases of \"euclidean\",\u001b[39;00m\n\u001b[1;32m   <a href='file:///~/opt/anaconda3/lib/python3.9/site-packages/sklearn/metrics/pairwise.py?line=1721'>1722</a>\u001b[0m     \u001b[39m# i.e. \"l2\"\u001b[39;00m\n\u001b[1;32m   <a href='file:///~/opt/anaconda3/lib/python3.9/site-packages/sklearn/metrics/pairwise.py?line=1722'>1723</a>\u001b[0m     D_chunk\u001b[39m.\u001b[39mflat[sl\u001b[39m.\u001b[39mstart :: _num_samples(X) \u001b[39m+\u001b[39m \u001b[39m1\u001b[39m] \u001b[39m=\u001b[39m \u001b[39m0\u001b[39m\n",
      "File \u001b[0;32m~/opt/anaconda3/lib/python3.9/site-packages/sklearn/metrics/pairwise.py:1889\u001b[0m, in \u001b[0;36mpairwise_distances\u001b[0;34m(X, Y, metric, n_jobs, force_all_finite, **kwds)\u001b[0m\n\u001b[1;32m   <a href='file:///~/opt/anaconda3/lib/python3.9/site-packages/sklearn/metrics/pairwise.py?line=1885'>1886</a>\u001b[0m         \u001b[39mreturn\u001b[39;00m distance\u001b[39m.\u001b[39msquareform(distance\u001b[39m.\u001b[39mpdist(X, metric\u001b[39m=\u001b[39mmetric, \u001b[39m*\u001b[39m\u001b[39m*\u001b[39mkwds))\n\u001b[1;32m   <a href='file:///~/opt/anaconda3/lib/python3.9/site-packages/sklearn/metrics/pairwise.py?line=1886'>1887</a>\u001b[0m     func \u001b[39m=\u001b[39m partial(distance\u001b[39m.\u001b[39mcdist, metric\u001b[39m=\u001b[39mmetric, \u001b[39m*\u001b[39m\u001b[39m*\u001b[39mkwds)\n\u001b[0;32m-> <a href='file:///~/opt/anaconda3/lib/python3.9/site-packages/sklearn/metrics/pairwise.py?line=1888'>1889</a>\u001b[0m \u001b[39mreturn\u001b[39;00m _parallel_pairwise(X, Y, func, n_jobs, \u001b[39m*\u001b[39;49m\u001b[39m*\u001b[39;49mkwds)\n",
      "File \u001b[0;32m~/opt/anaconda3/lib/python3.9/site-packages/sklearn/metrics/pairwise.py:1430\u001b[0m, in \u001b[0;36m_parallel_pairwise\u001b[0;34m(X, Y, func, n_jobs, **kwds)\u001b[0m\n\u001b[1;32m   <a href='file:///~/opt/anaconda3/lib/python3.9/site-packages/sklearn/metrics/pairwise.py?line=1426'>1427</a>\u001b[0m X, Y, dtype \u001b[39m=\u001b[39m _return_float_dtype(X, Y)\n\u001b[1;32m   <a href='file:///~/opt/anaconda3/lib/python3.9/site-packages/sklearn/metrics/pairwise.py?line=1428'>1429</a>\u001b[0m \u001b[39mif\u001b[39;00m effective_n_jobs(n_jobs) \u001b[39m==\u001b[39m \u001b[39m1\u001b[39m:\n\u001b[0;32m-> <a href='file:///~/opt/anaconda3/lib/python3.9/site-packages/sklearn/metrics/pairwise.py?line=1429'>1430</a>\u001b[0m     \u001b[39mreturn\u001b[39;00m func(X, Y, \u001b[39m*\u001b[39;49m\u001b[39m*\u001b[39;49mkwds)\n\u001b[1;32m   <a href='file:///~/opt/anaconda3/lib/python3.9/site-packages/sklearn/metrics/pairwise.py?line=1431'>1432</a>\u001b[0m \u001b[39m# enforce a threading backend to prevent data communication overhead\u001b[39;00m\n\u001b[1;32m   <a href='file:///~/opt/anaconda3/lib/python3.9/site-packages/sklearn/metrics/pairwise.py?line=1432'>1433</a>\u001b[0m fd \u001b[39m=\u001b[39m delayed(_dist_wrapper)\n",
      "File \u001b[0;32m~/opt/anaconda3/lib/python3.9/site-packages/sklearn/metrics/pairwise.py:330\u001b[0m, in \u001b[0;36meuclidean_distances\u001b[0;34m(X, Y, Y_norm_squared, squared, X_norm_squared)\u001b[0m\n\u001b[1;32m    <a href='file:///~/opt/anaconda3/lib/python3.9/site-packages/sklearn/metrics/pairwise.py?line=323'>324</a>\u001b[0m     \u001b[39mif\u001b[39;00m Y_norm_squared\u001b[39m.\u001b[39mshape \u001b[39m!=\u001b[39m (\u001b[39m1\u001b[39m, Y\u001b[39m.\u001b[39mshape[\u001b[39m0\u001b[39m]):\n\u001b[1;32m    <a href='file:///~/opt/anaconda3/lib/python3.9/site-packages/sklearn/metrics/pairwise.py?line=324'>325</a>\u001b[0m         \u001b[39mraise\u001b[39;00m \u001b[39mValueError\u001b[39;00m(\n\u001b[1;32m    <a href='file:///~/opt/anaconda3/lib/python3.9/site-packages/sklearn/metrics/pairwise.py?line=325'>326</a>\u001b[0m             \u001b[39mf\u001b[39m\u001b[39m\"\u001b[39m\u001b[39mIncompatible dimensions for Y of shape \u001b[39m\u001b[39m{\u001b[39;00mY\u001b[39m.\u001b[39mshape\u001b[39m}\u001b[39;00m\u001b[39m and \u001b[39m\u001b[39m\"\u001b[39m\n\u001b[1;32m    <a href='file:///~/opt/anaconda3/lib/python3.9/site-packages/sklearn/metrics/pairwise.py?line=326'>327</a>\u001b[0m             \u001b[39mf\u001b[39m\u001b[39m\"\u001b[39m\u001b[39mY_norm_squared of shape \u001b[39m\u001b[39m{\u001b[39;00moriginal_shape\u001b[39m}\u001b[39;00m\u001b[39m.\u001b[39m\u001b[39m\"\u001b[39m\n\u001b[1;32m    <a href='file:///~/opt/anaconda3/lib/python3.9/site-packages/sklearn/metrics/pairwise.py?line=327'>328</a>\u001b[0m         )\n\u001b[0;32m--> <a href='file:///~/opt/anaconda3/lib/python3.9/site-packages/sklearn/metrics/pairwise.py?line=329'>330</a>\u001b[0m \u001b[39mreturn\u001b[39;00m _euclidean_distances(X, Y, X_norm_squared, Y_norm_squared, squared)\n",
      "File \u001b[0;32m~/opt/anaconda3/lib/python3.9/site-packages/sklearn/metrics/pairwise.py:371\u001b[0m, in \u001b[0;36m_euclidean_distances\u001b[0;34m(X, Y, X_norm_squared, Y_norm_squared, squared)\u001b[0m\n\u001b[1;32m    <a href='file:///~/opt/anaconda3/lib/python3.9/site-packages/sklearn/metrics/pairwise.py?line=367'>368</a>\u001b[0m     distances \u001b[39m=\u001b[39m _euclidean_distances_upcast(X, XX, Y, YY)\n\u001b[1;32m    <a href='file:///~/opt/anaconda3/lib/python3.9/site-packages/sklearn/metrics/pairwise.py?line=368'>369</a>\u001b[0m \u001b[39melse\u001b[39;00m:\n\u001b[1;32m    <a href='file:///~/opt/anaconda3/lib/python3.9/site-packages/sklearn/metrics/pairwise.py?line=369'>370</a>\u001b[0m     \u001b[39m# if dtype is already float64, no need to chunk and upcast\u001b[39;00m\n\u001b[0;32m--> <a href='file:///~/opt/anaconda3/lib/python3.9/site-packages/sklearn/metrics/pairwise.py?line=370'>371</a>\u001b[0m     distances \u001b[39m=\u001b[39m \u001b[39m-\u001b[39m\u001b[39m2\u001b[39m \u001b[39m*\u001b[39m safe_sparse_dot(X, Y\u001b[39m.\u001b[39;49mT, dense_output\u001b[39m=\u001b[39;49m\u001b[39mTrue\u001b[39;49;00m)\n\u001b[1;32m    <a href='file:///~/opt/anaconda3/lib/python3.9/site-packages/sklearn/metrics/pairwise.py?line=371'>372</a>\u001b[0m     distances \u001b[39m+\u001b[39m\u001b[39m=\u001b[39m XX\n\u001b[1;32m    <a href='file:///~/opt/anaconda3/lib/python3.9/site-packages/sklearn/metrics/pairwise.py?line=372'>373</a>\u001b[0m     distances \u001b[39m+\u001b[39m\u001b[39m=\u001b[39m YY\n",
      "File \u001b[0;32m~/opt/anaconda3/lib/python3.9/site-packages/sklearn/utils/extmath.py:153\u001b[0m, in \u001b[0;36msafe_sparse_dot\u001b[0;34m(a, b, dense_output)\u001b[0m\n\u001b[1;32m    <a href='file:///~/opt/anaconda3/lib/python3.9/site-packages/sklearn/utils/extmath.py?line=150'>151</a>\u001b[0m         ret \u001b[39m=\u001b[39m np\u001b[39m.\u001b[39mdot(a, b)\n\u001b[1;32m    <a href='file:///~/opt/anaconda3/lib/python3.9/site-packages/sklearn/utils/extmath.py?line=151'>152</a>\u001b[0m \u001b[39melse\u001b[39;00m:\n\u001b[0;32m--> <a href='file:///~/opt/anaconda3/lib/python3.9/site-packages/sklearn/utils/extmath.py?line=152'>153</a>\u001b[0m     ret \u001b[39m=\u001b[39m a \u001b[39m@\u001b[39;49m b\n\u001b[1;32m    <a href='file:///~/opt/anaconda3/lib/python3.9/site-packages/sklearn/utils/extmath.py?line=154'>155</a>\u001b[0m \u001b[39mif\u001b[39;00m (\n\u001b[1;32m    <a href='file:///~/opt/anaconda3/lib/python3.9/site-packages/sklearn/utils/extmath.py?line=155'>156</a>\u001b[0m     sparse\u001b[39m.\u001b[39missparse(a)\n\u001b[1;32m    <a href='file:///~/opt/anaconda3/lib/python3.9/site-packages/sklearn/utils/extmath.py?line=156'>157</a>\u001b[0m     \u001b[39mand\u001b[39;00m sparse\u001b[39m.\u001b[39missparse(b)\n\u001b[1;32m    <a href='file:///~/opt/anaconda3/lib/python3.9/site-packages/sklearn/utils/extmath.py?line=157'>158</a>\u001b[0m     \u001b[39mand\u001b[39;00m dense_output\n\u001b[1;32m    <a href='file:///~/opt/anaconda3/lib/python3.9/site-packages/sklearn/utils/extmath.py?line=158'>159</a>\u001b[0m     \u001b[39mand\u001b[39;00m \u001b[39mhasattr\u001b[39m(ret, \u001b[39m\"\u001b[39m\u001b[39mtoarray\u001b[39m\u001b[39m\"\u001b[39m)\n\u001b[1;32m    <a href='file:///~/opt/anaconda3/lib/python3.9/site-packages/sklearn/utils/extmath.py?line=159'>160</a>\u001b[0m ):\n\u001b[1;32m    <a href='file:///~/opt/anaconda3/lib/python3.9/site-packages/sklearn/utils/extmath.py?line=160'>161</a>\u001b[0m     \u001b[39mreturn\u001b[39;00m ret\u001b[39m.\u001b[39mtoarray()\n",
      "\u001b[0;31mKeyboardInterrupt\u001b[0m: "
     ]
    }
   ],
   "source": [
    "from sklearn.neighbors import KNeighborsClassifier\n",
    "\n",
    "my_dict = {'leaf_size': range(30,40),\n",
    "            'Algorithm': ['auto', 'ball_tree', 'kd_tree', 'brute']}\n",
    "\n",
    "\n",
    "\n",
    "seven = KNeighborsClassifier(n_neighbors=5, weights= 'distance', algorithm= 'brute', leaf_size= 35, p=2)\n",
    "search = GridSearchCV(model, my_dict)\n",
    "search.fit(new_data[new_setting], new_data[\"Production Stage\"])\n",
    "labels = new_data['Production Stage']\n",
    "\n",
    "random = new_data.sample(frac = 1)\n",
    "\n",
    "one_hundred = random[:5000]\n",
    "\n",
    "predictions = search.predict(one_hundred[new_setting])"
   ]
  },
  {
   "cell_type": "code",
   "execution_count": 138,
   "metadata": {},
   "outputs": [
    {
     "name": "stdout",
     "output_type": "stream",
     "text": [
      "Accuracy score: 0.7976\n",
      "0.8204975124378109\n"
     ]
    }
   ],
   "source": [
    "print('Accuracy score:',accuracy_score(one_hundred['Production Stage'], predictions))\n",
    "\n",
    "print(precision_score(one_hundred['Production Stage'], predictions, average='macro'))"
   ]
  }
 ],
 "metadata": {
  "interpreter": {
   "hash": "156eba96b6fcd6f04a4e8b9649664bc4ed6dd29c5b93cfc57b5c6c5dec6406e4"
  },
  "kernelspec": {
   "display_name": "Python 3.9.12 ('base')",
   "language": "python",
   "name": "python3"
  },
  "language_info": {
   "codemirror_mode": {
    "name": "ipython",
    "version": 3
   },
   "file_extension": ".py",
   "mimetype": "text/x-python",
   "name": "python",
   "nbconvert_exporter": "python",
   "pygments_lexer": "ipython3",
   "version": "3.9.12"
  },
  "orig_nbformat": 4
 },
 "nbformat": 4,
 "nbformat_minor": 2
}
