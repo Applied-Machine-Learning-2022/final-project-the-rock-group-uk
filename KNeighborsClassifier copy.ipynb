{
 "cells": [
  {
   "cell_type": "code",
   "execution_count": 67,
   "metadata": {},
   "outputs": [],
   "source": [
    "import pandas as pd\n",
    "import matplotlib.pyplot as plt\n",
    "import tensorflow as tf\n",
    "import numpy as np"
   ]
  },
  {
   "cell_type": "code",
   "execution_count": 42,
   "metadata": {},
   "outputs": [],
   "source": [
    "exp_1 = pd.read_excel(\"EXP-00001-Master.xlsx\")"
   ]
  },
  {
   "cell_type": "code",
   "execution_count": 43,
   "metadata": {},
   "outputs": [],
   "source": [
    "exp_2 = pd.read_excel('EXP-00002-Master.xlsx')"
   ]
  },
  {
   "cell_type": "code",
   "execution_count": 44,
   "metadata": {},
   "outputs": [],
   "source": [
    "exp_3 = pd.read_excel('EXP-00003-Master.xlsx')"
   ]
  },
  {
   "cell_type": "code",
   "execution_count": 45,
   "metadata": {},
   "outputs": [],
   "source": [
    "exp_4 = pd.read_excel('EXP-00004-Master.xlsx')\n",
    "exp_5 = pd.read_excel('EXP-00004-Master.xlsx')"
   ]
  },
  {
   "cell_type": "code",
   "execution_count": 46,
   "metadata": {},
   "outputs": [
    {
     "data": {
      "text/plain": [
       "{'encoding': 'ISO-8859-1', 'confidence': 0.73, 'language': ''}"
      ]
     },
     "execution_count": 46,
     "metadata": {},
     "output_type": "execute_result"
    }
   ],
   "source": [
    "import chardet\n",
    "\n",
    "file = 'ARCH00138-TM-Residential.csv'\n",
    "\n",
    "with open(file, 'rb') as rawdata:\n",
    "    result = chardet.detect(rawdata.read(100000))\n",
    "result"
   ]
  },
  {
   "cell_type": "code",
   "execution_count": 47,
   "metadata": {},
   "outputs": [
    {
     "name": "stderr",
     "output_type": "stream",
     "text": [
      "C:\\Users\\resoj\\AppData\\Local\\Temp\\ipykernel_14688\\1272363653.py:1: DtypeWarning: Columns (0,1,2,3,4,5,6,7,8,9,10,11,12,13,14,15,16,17,18,19,20,21,22,23,24,25,26,27,28,29,37,38,39,40,41,42,43,44,45,46) have mixed types. Specify dtype option on import or set low_memory=False.\n",
      "  ss = pd.read_csv(file, encoding= 'ISO-8859-1')\n"
     ]
    },
    {
     "data": {
      "text/html": [
       "<div>\n",
       "<style scoped>\n",
       "    .dataframe tbody tr th:only-of-type {\n",
       "        vertical-align: middle;\n",
       "    }\n",
       "\n",
       "    .dataframe tbody tr th {\n",
       "        vertical-align: top;\n",
       "    }\n",
       "\n",
       "    .dataframe thead th {\n",
       "        text-align: right;\n",
       "    }\n",
       "</style>\n",
       "<table border=\"1\" class=\"dataframe\">\n",
       "  <thead>\n",
       "    <tr style=\"text-align: right;\">\n",
       "      <th></th>\n",
       "      <th>Id</th>\n",
       "      <th>Img Id</th>\n",
       "      <th>Da</th>\n",
       "      <th>Dp</th>\n",
       "      <th>FWidth</th>\n",
       "      <th>FLength</th>\n",
       "      <th>FThickness</th>\n",
       "      <th>ELength</th>\n",
       "      <th>EThickness</th>\n",
       "      <th>EWidth</th>\n",
       "      <th>...</th>\n",
       "      <th>L/W Ratio</th>\n",
       "      <th>W/L Ratio</th>\n",
       "      <th>W/T Ratio</th>\n",
       "      <th>T/W Ratio</th>\n",
       "      <th>CHull Surface Area</th>\n",
       "      <th>Sieve</th>\n",
       "      <th>Angularity</th>\n",
       "      <th>Ellipticity</th>\n",
       "      <th>Fiber Length</th>\n",
       "      <th>Fiber Width</th>\n",
       "    </tr>\n",
       "  </thead>\n",
       "  <tbody>\n",
       "    <tr>\n",
       "      <th>0</th>\n",
       "      <td></td>\n",
       "      <td></td>\n",
       "      <td>mm</td>\n",
       "      <td>mm</td>\n",
       "      <td>mm</td>\n",
       "      <td>mm</td>\n",
       "      <td>mm</td>\n",
       "      <td>mm</td>\n",
       "      <td>mm</td>\n",
       "      <td>mm</td>\n",
       "      <td>...</td>\n",
       "      <td></td>\n",
       "      <td></td>\n",
       "      <td></td>\n",
       "      <td></td>\n",
       "      <td>mm²</td>\n",
       "      <td>mm</td>\n",
       "      <td></td>\n",
       "      <td></td>\n",
       "      <td>mm</td>\n",
       "      <td>mm</td>\n",
       "    </tr>\n",
       "    <tr>\n",
       "      <th>1</th>\n",
       "      <td>43167</td>\n",
       "      <td>30416</td>\n",
       "      <td>7.651</td>\n",
       "      <td>9.678</td>\n",
       "      <td>7.343</td>\n",
       "      <td>9.459</td>\n",
       "      <td>7.107</td>\n",
       "      <td>8.887</td>\n",
       "      <td>7.327</td>\n",
       "      <td>7.489</td>\n",
       "      <td>...</td>\n",
       "      <td>1.288</td>\n",
       "      <td>0.776</td>\n",
       "      <td>1.033</td>\n",
       "      <td>0.968</td>\n",
       "      <td>201.719</td>\n",
       "      <td>7.225</td>\n",
       "      <td>28.667</td>\n",
       "      <td>1.213</td>\n",
       "      <td>12.37</td>\n",
       "      <td>3.93</td>\n",
       "    </tr>\n",
       "    <tr>\n",
       "      <th>2</th>\n",
       "      <td>17818</td>\n",
       "      <td>16917</td>\n",
       "      <td>8.333</td>\n",
       "      <td>14.854</td>\n",
       "      <td>8.484</td>\n",
       "      <td>13.222</td>\n",
       "      <td>6.844</td>\n",
       "      <td>12.323</td>\n",
       "      <td>5.986</td>\n",
       "      <td>7.576</td>\n",
       "      <td>...</td>\n",
       "      <td>1.559</td>\n",
       "      <td>0.642</td>\n",
       "      <td>1.24</td>\n",
       "      <td>0.807</td>\n",
       "      <td>262.4</td>\n",
       "      <td>7.664</td>\n",
       "      <td>35</td>\n",
       "      <td>2.059</td>\n",
       "      <td>25.247</td>\n",
       "      <td>2.166</td>\n",
       "    </tr>\n",
       "    <tr>\n",
       "      <th>3</th>\n",
       "      <td>41279</td>\n",
       "      <td>28693</td>\n",
       "      <td>7.432</td>\n",
       "      <td>9.354</td>\n",
       "      <td>6.965</td>\n",
       "      <td>9.83</td>\n",
       "      <td>6.752</td>\n",
       "      <td>9.167</td>\n",
       "      <td>6.4</td>\n",
       "      <td>6.88</td>\n",
       "      <td>...</td>\n",
       "      <td>1.411</td>\n",
       "      <td>0.709</td>\n",
       "      <td>1.031</td>\n",
       "      <td>0.969</td>\n",
       "      <td>192.099</td>\n",
       "      <td>6.859</td>\n",
       "      <td>28.359</td>\n",
       "      <td>1.432</td>\n",
       "      <td>13.105</td>\n",
       "      <td>3.264</td>\n",
       "    </tr>\n",
       "    <tr>\n",
       "      <th>4</th>\n",
       "      <td>37511</td>\n",
       "      <td>26135</td>\n",
       "      <td>6.6</td>\n",
       "      <td>7.496</td>\n",
       "      <td>6.648</td>\n",
       "      <td>7.819</td>\n",
       "      <td>6.102</td>\n",
       "      <td>7.185</td>\n",
       "      <td>6.135</td>\n",
       "      <td>6.708</td>\n",
       "      <td>...</td>\n",
       "      <td>1.176</td>\n",
       "      <td>0.85</td>\n",
       "      <td>1.089</td>\n",
       "      <td>0.918</td>\n",
       "      <td>144.156</td>\n",
       "      <td>6.375</td>\n",
       "      <td>26.51</td>\n",
       "      <td>1.171</td>\n",
       "      <td>8.014</td>\n",
       "      <td>4.22</td>\n",
       "    </tr>\n",
       "    <tr>\n",
       "      <th>...</th>\n",
       "      <td>...</td>\n",
       "      <td>...</td>\n",
       "      <td>...</td>\n",
       "      <td>...</td>\n",
       "      <td>...</td>\n",
       "      <td>...</td>\n",
       "      <td>...</td>\n",
       "      <td>...</td>\n",
       "      <td>...</td>\n",
       "      <td>...</td>\n",
       "      <td>...</td>\n",
       "      <td>...</td>\n",
       "      <td>...</td>\n",
       "      <td>...</td>\n",
       "      <td>...</td>\n",
       "      <td>...</td>\n",
       "      <td>...</td>\n",
       "      <td>...</td>\n",
       "      <td>...</td>\n",
       "      <td>...</td>\n",
       "      <td>...</td>\n",
       "    </tr>\n",
       "    <tr>\n",
       "      <th>44225</th>\n",
       "      <td>5720</td>\n",
       "      <td>12766</td>\n",
       "      <td>0.142</td>\n",
       "      <td>0.152</td>\n",
       "      <td>0.125</td>\n",
       "      <td>0.179</td>\n",
       "      <td>0.125</td>\n",
       "      <td>0.17</td>\n",
       "      <td>0.121</td>\n",
       "      <td>0.121</td>\n",
       "      <td>...</td>\n",
       "      <td>1.435</td>\n",
       "      <td>0.697</td>\n",
       "      <td>1.0</td>\n",
       "      <td>1.0</td>\n",
       "      <td>0.064</td>\n",
       "      <td>0.125</td>\n",
       "      <td>58.571</td>\n",
       "      <td>1.408</td>\n",
       "      <td>0.0</td>\n",
       "      <td>0.0</td>\n",
       "    </tr>\n",
       "    <tr>\n",
       "      <th>44226</th>\n",
       "      <td>42084</td>\n",
       "      <td>29325</td>\n",
       "      <td>0.138</td>\n",
       "      <td>0.164</td>\n",
       "      <td>0.125</td>\n",
       "      <td>0.181</td>\n",
       "      <td>0.125</td>\n",
       "      <td>0.163</td>\n",
       "      <td>0.122</td>\n",
       "      <td>0.122</td>\n",
       "      <td>...</td>\n",
       "      <td>1.444</td>\n",
       "      <td>0.692</td>\n",
       "      <td>1.0</td>\n",
       "      <td>1.0</td>\n",
       "      <td>0.067</td>\n",
       "      <td>0.125</td>\n",
       "      <td>72.857</td>\n",
       "      <td>1.336</td>\n",
       "      <td>0.157</td>\n",
       "      <td>0.096</td>\n",
       "    </tr>\n",
       "    <tr>\n",
       "      <th>44227</th>\n",
       "      <td>13662</td>\n",
       "      <td>15493</td>\n",
       "      <td>0.133</td>\n",
       "      <td>0.145</td>\n",
       "      <td>0.125</td>\n",
       "      <td>0.171</td>\n",
       "      <td>0.125</td>\n",
       "      <td>0.16</td>\n",
       "      <td>0.113</td>\n",
       "      <td>0.113</td>\n",
       "      <td>...</td>\n",
       "      <td>1.371</td>\n",
       "      <td>0.73</td>\n",
       "      <td>1.0</td>\n",
       "      <td>1.0</td>\n",
       "      <td>0.058</td>\n",
       "      <td>0.125</td>\n",
       "      <td>66.0</td>\n",
       "      <td>1.407</td>\n",
       "      <td>0.0</td>\n",
       "      <td>0.0</td>\n",
       "    </tr>\n",
       "    <tr>\n",
       "      <th>44228</th>\n",
       "      <td>44206</td>\n",
       "      <td>31435</td>\n",
       "      <td>0.126</td>\n",
       "      <td>0.154</td>\n",
       "      <td>0.125</td>\n",
       "      <td>0.177</td>\n",
       "      <td>0.125</td>\n",
       "      <td>0.153</td>\n",
       "      <td>0.113</td>\n",
       "      <td>0.113</td>\n",
       "      <td>...</td>\n",
       "      <td>1.414</td>\n",
       "      <td>0.707</td>\n",
       "      <td>1.0</td>\n",
       "      <td>1.0</td>\n",
       "      <td>0.058</td>\n",
       "      <td>0.125</td>\n",
       "      <td>66.25</td>\n",
       "      <td>1.353</td>\n",
       "      <td>0.165</td>\n",
       "      <td>0.075</td>\n",
       "    </tr>\n",
       "    <tr>\n",
       "      <th>44229</th>\n",
       "      <td>1870</td>\n",
       "      <td>10751</td>\n",
       "      <td>0.142</td>\n",
       "      <td>0.161</td>\n",
       "      <td>0.125</td>\n",
       "      <td>0.187</td>\n",
       "      <td>0.125</td>\n",
       "      <td>0.172</td>\n",
       "      <td>0.12</td>\n",
       "      <td>0.12</td>\n",
       "      <td>...</td>\n",
       "      <td>1.493</td>\n",
       "      <td>0.67</td>\n",
       "      <td>1.0</td>\n",
       "      <td>1.0</td>\n",
       "      <td>0.067</td>\n",
       "      <td>0.125</td>\n",
       "      <td>58.571</td>\n",
       "      <td>1.435</td>\n",
       "      <td>0.0</td>\n",
       "      <td>0.0</td>\n",
       "    </tr>\n",
       "  </tbody>\n",
       "</table>\n",
       "<p>44230 rows × 47 columns</p>\n",
       "</div>"
      ],
      "text/plain": [
       "          Id Img Id     Da      Dp FWidth FLength FThickness ELength  \\\n",
       "0                       mm      mm     mm      mm         mm      mm   \n",
       "1      43167  30416  7.651   9.678  7.343   9.459      7.107   8.887   \n",
       "2      17818  16917  8.333  14.854  8.484  13.222      6.844  12.323   \n",
       "3      41279  28693  7.432   9.354  6.965    9.83      6.752   9.167   \n",
       "4      37511  26135    6.6   7.496  6.648   7.819      6.102   7.185   \n",
       "...      ...    ...    ...     ...    ...     ...        ...     ...   \n",
       "44225   5720  12766  0.142   0.152  0.125   0.179      0.125    0.17   \n",
       "44226  42084  29325  0.138   0.164  0.125   0.181      0.125   0.163   \n",
       "44227  13662  15493  0.133   0.145  0.125   0.171      0.125    0.16   \n",
       "44228  44206  31435  0.126   0.154  0.125   0.177      0.125   0.153   \n",
       "44229   1870  10751  0.142   0.161  0.125   0.187      0.125   0.172   \n",
       "\n",
       "      EThickness EWidth  ... L/W Ratio W/L Ratio W/T Ratio T/W Ratio  \\\n",
       "0             mm     mm  ...                                           \n",
       "1          7.327  7.489  ...     1.288     0.776     1.033     0.968   \n",
       "2          5.986  7.576  ...     1.559     0.642      1.24     0.807   \n",
       "3            6.4   6.88  ...     1.411     0.709     1.031     0.969   \n",
       "4          6.135  6.708  ...     1.176      0.85     1.089     0.918   \n",
       "...          ...    ...  ...       ...       ...       ...       ...   \n",
       "44225      0.121  0.121  ...     1.435     0.697       1.0       1.0   \n",
       "44226      0.122  0.122  ...     1.444     0.692       1.0       1.0   \n",
       "44227      0.113  0.113  ...     1.371      0.73       1.0       1.0   \n",
       "44228      0.113  0.113  ...     1.414     0.707       1.0       1.0   \n",
       "44229       0.12   0.12  ...     1.493      0.67       1.0       1.0   \n",
       "\n",
       "      CHull Surface Area  Sieve Angularity Ellipticity Fiber Length  \\\n",
       "0                    mm²     mm                                  mm   \n",
       "1                201.719  7.225     28.667       1.213        12.37   \n",
       "2                  262.4  7.664         35       2.059       25.247   \n",
       "3                192.099  6.859     28.359       1.432       13.105   \n",
       "4                144.156  6.375      26.51       1.171        8.014   \n",
       "...                  ...    ...        ...         ...          ...   \n",
       "44225              0.064  0.125     58.571       1.408          0.0   \n",
       "44226              0.067  0.125     72.857       1.336        0.157   \n",
       "44227              0.058  0.125       66.0       1.407          0.0   \n",
       "44228              0.058  0.125      66.25       1.353        0.165   \n",
       "44229              0.067  0.125     58.571       1.435          0.0   \n",
       "\n",
       "      Fiber Width  \n",
       "0              mm  \n",
       "1            3.93  \n",
       "2           2.166  \n",
       "3           3.264  \n",
       "4            4.22  \n",
       "...           ...  \n",
       "44225         0.0  \n",
       "44226       0.096  \n",
       "44227         0.0  \n",
       "44228       0.075  \n",
       "44229         0.0  \n",
       "\n",
       "[44230 rows x 47 columns]"
      ]
     },
     "execution_count": 47,
     "metadata": {},
     "output_type": "execute_result"
    }
   ],
   "source": [
    "ss = pd.read_csv(file, encoding= 'ISO-8859-1')\n",
    "ss"
   ]
  },
  {
   "cell_type": "code",
   "execution_count": 48,
   "metadata": {},
   "outputs": [],
   "source": [
    "\n",
    "exp_1.drop(index=0, inplace=True)\n",
    "exp_2.drop(index=0, inplace=True)\n",
    "exp_3.drop(index=0, inplace=True)\n",
    "exp_4.drop(index = 0, inplace = True)\n",
    "exp_5.drop(index = 0, inplace= True)\n",
    "ss.drop(index = 0, inplace= True)\n",
    "\n",
    "exp_1.reset_index(drop=True, inplace=True)\n",
    "exp_2.reset_index(drop=True, inplace=True)\n",
    "exp_3.reset_index(drop=True, inplace=True)\n",
    "exp_4.reset_index(drop=True, inplace=True)\n",
    "exp_5.reset_index(drop=True, inplace=True)\n",
    "ss.reset_index(drop = True, inplace = True)"
   ]
  },
  {
   "cell_type": "markdown",
   "metadata": {},
   "source": [
    "['Id', 'Img Id', 'Da', 'Dp', 'FWidth', 'FLength', 'FThickness',\n",
    "       'ELength', 'EThickness', 'EWidth', 'Volume', 'Area', 'Perimeter',\n",
    "       'CHull  Area', 'CHull Perimeter', 'Sphericity', 'L/T Ratio',\n",
    "       'T/L Aspect Ratio', 'Compactness', 'Roundness', 'Ellipse Ratio',\n",
    "       'Circularity', 'Solidity', 'Concavity', 'Convexity', 'Extent', 'hash',\n",
    "       'Surface Area', 'Filter0', 'Filter1', 'Filter2', 'Filter3', 'Filter4',\n",
    "       'Filter5', 'Filter6', 'L/W Ratio', 'W/L Ratio', 'W/T Ratio',\n",
    "       'T/W Ratio', 'CHull Surface Area', 'Sieve', 'Ellipticity',\n",
    "       'Fiber Length', 'Fiber Width'],"
   ]
  },
  {
   "cell_type": "code",
   "execution_count": 49,
   "metadata": {},
   "outputs": [
    {
     "data": {
      "text/plain": [
       "Index(['Id', 'Img Id', 'Da', 'Dp', 'FWidth', 'FLength', 'FThickness',\n",
       "       'ELength', 'EThickness', 'EWidth', 'Volume', 'Area', 'Perimeter',\n",
       "       'CHull  Area', 'CHull Perimeter', 'Sphericity', 'L/T Ratio',\n",
       "       'T/L Aspect Ratio', 'Compactness', 'Roundness', 'Ellipse Ratio',\n",
       "       'Circularity', 'Solidity', 'Concavity', 'Convexity', 'Extent', 'hash',\n",
       "       'Transparency', 'Curvature', 'Surface Area', 'Filter0', 'Filter1',\n",
       "       'Filter2', 'Filter3', 'Filter4', 'Filter5', 'Filter6', 'L/W Ratio',\n",
       "       'W/L Ratio', 'W/T Ratio', 'T/W Ratio', 'CHull Surface Area', 'Sieve',\n",
       "       'Angularity', 'Ellipticity', 'Fiber Length', 'Fiber Width'],\n",
       "      dtype='object')"
      ]
     },
     "execution_count": 49,
     "metadata": {},
     "output_type": "execute_result"
    }
   ],
   "source": [
    "# exp_1.groupby(['Id'])['Id'].count()\n",
    "# exp_1[exp_1['Id'] == 1]\n",
    "# #Dropping Id column since it's not relevant\n",
    "\n",
    "# exp_1.groupby(['Filter0']).count()\n",
    "# exp_2.groupby(['Filter0']).count()\n",
    "# exp_3.groupby(['Filter0']).count()\n",
    "\n",
    "# exp_1.groupby(['Filter1']).count()\n",
    "# exp_2.groupby(['Filter1']).count()\n",
    "# exp_3.groupby(['Filter1']).count()\n",
    "\n",
    "# exp_1.groupby(['Filter2']).count()\n",
    "# exp_2.groupby(['Filter2']).count()\n",
    "# exp_3.groupby(['Filter2']).count()\n",
    "\n",
    "# exp_1.groupby(['Filter3']).count()\n",
    "# exp_2.groupby(['Filter3']).count()\n",
    "# exp_3.groupby(['Filter3']).count()\n",
    "\n",
    "\n",
    "# exp_1.groupby(['Filter4']).count()\n",
    "# exp_2.groupby(['Filter4']).count()\n",
    "# exp_3.groupby(['Filter4']).count()\n",
    "\n",
    "# exp_1.groupby(['Filter5']).count()\n",
    "# exp_2.groupby(['Filter5']).count()\n",
    "# exp_3.groupby(['Filter5']).count()\n",
    "\n",
    "# exp_1.groupby(['Filter6']).count()\n",
    "# exp_2.groupby(['Filter6']).count()\n",
    "# exp_3.groupby(['Filter6']).count()\n",
    "\n",
    "#All filters contain reject for all filter columns, they are getting dropped\n",
    "\n",
    "# exp_1.groupby(['hash']).count()\n",
    "# exp_2.groupby(['hash']).count()\n",
    "# exp_3.groupby(['hash']).count()\n",
    "# Dropping hash, all values are 0\n",
    "\n",
    "#Img Id doesn't seem to provide good values\n",
    "\n",
    "exp_5.columns"
   ]
  },
  {
   "cell_type": "code",
   "execution_count": 50,
   "metadata": {},
   "outputs": [
    {
     "name": "stderr",
     "output_type": "stream",
     "text": [
      "C:\\Users\\resoj\\AppData\\Local\\Temp\\ipykernel_14688\\2590545074.py:13: SettingWithCopyWarning: \n",
      "A value is trying to be set on a copy of a slice from a DataFrame.\n",
      "Try using .loc[row_indexer,col_indexer] = value instead\n",
      "\n",
      "See the caveats in the documentation: https://pandas.pydata.org/pandas-docs/stable/user_guide/indexing.html#returning-a-view-versus-a-copy\n",
      "  exp_1_filtered['Production Stage'] = 0\n",
      "C:\\Users\\resoj\\AppData\\Local\\Temp\\ipykernel_14688\\2590545074.py:14: SettingWithCopyWarning: \n",
      "A value is trying to be set on a copy of a slice from a DataFrame.\n",
      "Try using .loc[row_indexer,col_indexer] = value instead\n",
      "\n",
      "See the caveats in the documentation: https://pandas.pydata.org/pandas-docs/stable/user_guide/indexing.html#returning-a-view-versus-a-copy\n",
      "  exp_2_filtered['Production Stage'] = 1\n",
      "C:\\Users\\resoj\\AppData\\Local\\Temp\\ipykernel_14688\\2590545074.py:15: SettingWithCopyWarning: \n",
      "A value is trying to be set on a copy of a slice from a DataFrame.\n",
      "Try using .loc[row_indexer,col_indexer] = value instead\n",
      "\n",
      "See the caveats in the documentation: https://pandas.pydata.org/pandas-docs/stable/user_guide/indexing.html#returning-a-view-versus-a-copy\n",
      "  exp_3_filtered['Production Stage'] = 2\n",
      "C:\\Users\\resoj\\AppData\\Local\\Temp\\ipykernel_14688\\2590545074.py:16: SettingWithCopyWarning: \n",
      "A value is trying to be set on a copy of a slice from a DataFrame.\n",
      "Try using .loc[row_indexer,col_indexer] = value instead\n",
      "\n",
      "See the caveats in the documentation: https://pandas.pydata.org/pandas-docs/stable/user_guide/indexing.html#returning-a-view-versus-a-copy\n",
      "  exp_4_filtered['Production Stage'] = 3\n",
      "C:\\Users\\resoj\\AppData\\Local\\Temp\\ipykernel_14688\\2590545074.py:17: SettingWithCopyWarning: \n",
      "A value is trying to be set on a copy of a slice from a DataFrame.\n",
      "Try using .loc[row_indexer,col_indexer] = value instead\n",
      "\n",
      "See the caveats in the documentation: https://pandas.pydata.org/pandas-docs/stable/user_guide/indexing.html#returning-a-view-versus-a-copy\n",
      "  exp_5_filtered['Production Stage'] = 4\n"
     ]
    }
   ],
   "source": [
    "not_included = ['Id', 'Filter0','Filter1', 'Filter2','Filter3', 'Filter4', 'Filter5', 'Filter6', 'hash', 'Img Id', 'Curvature', 'Transparency', 'Angularity']\n",
    "filtered = [x for x in exp_1.columns if x not in not_included]\n",
    "\n",
    "\n",
    "\n",
    "exp_1_filtered = exp_1[filtered]\n",
    "exp_2_filtered = exp_2[filtered]\n",
    "exp_3_filtered = exp_3[filtered]\n",
    "exp_4_filtered = exp_4[filtered]\n",
    "exp_5_filtered = exp_5[filtered]\n",
    "ss_filtered = ss[filtered]\n",
    "\n",
    "exp_1_filtered['Production Stage'] = 0\n",
    "exp_2_filtered['Production Stage'] = 1\n",
    "exp_3_filtered['Production Stage'] = 2\n",
    "exp_4_filtered['Production Stage'] = 3\n",
    "exp_5_filtered['Production Stage'] = 4"
   ]
  },
  {
   "cell_type": "code",
   "execution_count": 51,
   "metadata": {},
   "outputs": [
    {
     "name": "stderr",
     "output_type": "stream",
     "text": [
      "c:\\Users\\resoj\\anaconda3\\lib\\site-packages\\pandas\\core\\reshape\\merge.py:916: FutureWarning: In a future version, the Index constructor will not infer numeric dtypes when passed object-dtype sequences (matching Series behavior)\n",
      "  key_col = Index(lvals).where(~mask_left, rvals)\n",
      "c:\\Users\\resoj\\anaconda3\\lib\\site-packages\\pandas\\core\\reshape\\merge.py:916: FutureWarning: In a future version, the Index constructor will not infer numeric dtypes when passed object-dtype sequences (matching Series behavior)\n",
      "  key_col = Index(lvals).where(~mask_left, rvals)\n",
      "c:\\Users\\resoj\\anaconda3\\lib\\site-packages\\pandas\\core\\reshape\\merge.py:916: FutureWarning: In a future version, the Index constructor will not infer numeric dtypes when passed object-dtype sequences (matching Series behavior)\n",
      "  key_col = Index(lvals).where(~mask_left, rvals)\n",
      "c:\\Users\\resoj\\anaconda3\\lib\\site-packages\\pandas\\core\\reshape\\merge.py:916: FutureWarning: In a future version, the Index constructor will not infer numeric dtypes when passed object-dtype sequences (matching Series behavior)\n",
      "  key_col = Index(lvals).where(~mask_left, rvals)\n"
     ]
    }
   ],
   "source": [
    "r1, c1 = exp_1_filtered.shape\n",
    "r2, c2 = exp_2_filtered.shape\n",
    "r3, c3  = exp_3_filtered.shape\n",
    "data = exp_1_filtered.merge(exp_2_filtered, how= 'outer')\n",
    "data\n",
    "data = data.merge(exp_3_filtered, how = 'outer')\n",
    "data = data.merge(exp_4_filtered, how = 'outer')\n",
    "data = data.merge(exp_5_filtered, how='outer')"
   ]
  },
  {
   "cell_type": "code",
   "execution_count": 52,
   "metadata": {},
   "outputs": [
    {
     "data": {
      "text/plain": [
       "<AxesSubplot:>"
      ]
     },
     "execution_count": 52,
     "metadata": {},
     "output_type": "execute_result"
    },
    {
     "data": {
      "image/png": "[encoded data removed]",
      "text/plain": [
       "<Figure size 432x288 with 2 Axes>"
      ]
     },
     "metadata": {
      "needs_background": "light"
     },
     "output_type": "display_data"
    }
   ],
   "source": [
    "import seaborn as sns\n",
    "\n",
    "for x in data.columns: \n",
    "    data[x] = pd.to_numeric(data[x])\n",
    "\n",
    "sns.heatmap(data.corr())"
   ]
  },
  {
   "cell_type": "code",
   "execution_count": 53,
   "metadata": {},
   "outputs": [],
   "source": [
    "s =data.corr()\n",
    "the_corr = s['Production Stage']"
   ]
  },
  {
   "cell_type": "code",
   "execution_count": 54,
   "metadata": {},
   "outputs": [
    {
     "data": {
      "text/plain": [
       "Da                    0.025562\n",
       "Dp                    0.039007\n",
       "FWidth                0.013860\n",
       "FLength               0.034796\n",
       "FThickness            0.019973\n",
       "ELength               0.030728\n",
       "EThickness            0.016485\n",
       "EWidth                0.010461\n",
       "Volume               -0.001783\n",
       "Area                  0.010128\n",
       "Perimeter             0.039007\n",
       "CHull  Area           0.010623\n",
       "CHull Perimeter       0.034216\n",
       "Sphericity           -0.120339\n",
       "L/T Ratio             0.020885\n",
       "T/L Aspect Ratio     -0.030054\n",
       "Compactness          -0.046134\n",
       "Roundness            -0.049205\n",
       "Ellipse Ratio        -0.028785\n",
       "Circularity          -0.121177\n",
       "Solidity             -0.069948\n",
       "Concavity             0.069948\n",
       "Convexity            -0.110819\n",
       "Extent               -0.015434\n",
       "Surface Area          0.010128\n",
       "L/W Ratio             0.053797\n",
       "W/L Ratio            -0.056822\n",
       "W/T Ratio            -0.013822\n",
       "T/W Ratio             0.007395\n",
       "CHull Surface Area    0.010623\n",
       "Sieve                 0.016452\n",
       "Ellipticity           0.021060\n",
       "Fiber Length          0.046684\n",
       "Fiber Width           0.032074\n",
       "Production Stage      1.000000\n",
       "Name: Production Stage, dtype: float64"
      ]
     },
     "execution_count": 54,
     "metadata": {},
     "output_type": "execute_result"
    }
   ],
   "source": [
    "the_corr"
   ]
  },
  {
   "cell_type": "code",
   "execution_count": 55,
   "metadata": {},
   "outputs": [
    {
     "data": {
      "text/plain": [
       "Production Stage\n",
       "0    9714\n",
       "1    9938\n",
       "2    2964\n",
       "3    7336\n",
       "4    7336\n",
       "Name: Production Stage, dtype: int64"
      ]
     },
     "execution_count": 55,
     "metadata": {},
     "output_type": "execute_result"
    }
   ],
   "source": [
    "from sklearn.model_selection import train_test_split\n",
    "\n",
    "X_train, X_test, y_train, y_test = train_test_split(\n",
    "    data[filtered],\n",
    "    data['Production Stage'],\n",
    "    test_size=0.2,\n",
    "    stratify= data['Production Stage'],\n",
    "    random_state=44)\n",
    "\n",
    "y_train.groupby(y_train).count()\n",
    "y_test.groupby(y_test).count()\n",
    "\n"
   ]
  },
  {
   "cell_type": "code",
   "execution_count": 56,
   "metadata": {},
   "outputs": [],
   "source": [
    "from sklearn.neighbors import KNeighborsClassifier\n",
    "from sklearn.preprocessing import scale\n",
    "from sklearn.metrics import homogeneity_score\n",
    "from sklearn.metrics import completeness_score\n",
    "from sklearn.model_selection import GridSearchCV"
   ]
  },
  {
   "cell_type": "code",
   "execution_count": 57,
   "metadata": {},
   "outputs": [],
   "source": [
    "from sklearn.model_selection import GridSearchCV\n",
    "k_range = list(range(1, 31))\n"
   ]
  },
  {
   "cell_type": "code",
   "execution_count": 86,
   "metadata": {},
   "outputs": [],
   "source": [
    "model = KNeighborsClassifier(n_neighbors=5, weights= 'uniform', algorithm= 'auto', leaf_size= 5, p=1)\n",
    "\n",
    "scaled_data = scale(data[filtered])\n",
    "\n",
    "model.fit(data[filtered], data[\"Production Stage\"])\n",
    "labels = data['Production Stage']\n",
    "\n",
    "random = data.sample(frac = 1)\n",
    "\n",
    "one_hundred = random[:10000]\n",
    "\n",
    "predictions = model.predict(ss[filtered])\n"
   ]
  },
  {
   "cell_type": "code",
   "execution_count": 87,
   "metadata": {},
   "outputs": [
    {
     "data": {
      "text/plain": [
       "[22802, 22803, 22692, 22803, 22801]"
      ]
     },
     "execution_count": 87,
     "metadata": {},
     "output_type": "execute_result"
    }
   ],
   "source": [
    "predictions\n",
    "\n",
    "x_coords = [0,0,0,0,0]\n",
    "\n",
    "for i in predictions:\n",
    "    if i == 0:\n",
    "        x_coords[0] = x_coords[0] + 1\n",
    "    if i == 1:\n",
    "        x_coords[1] = x_coords[0] + 1\n",
    "    if i == 2:\n",
    "        x_coords[2] = x_coords[0] + 1\n",
    "    if i == 3:\n",
    "        x_coords[3] = x_coords[0] + 1\n",
    "    if i == 4:\n",
    "        x_coords[4] = x_coords[0] + 1\n",
    "\n",
    "x_coords\n",
    "\n",
    "stages = ['Stage 0', 'Stage 1', 'Stage 2', 'Stage 3', 'Stage 4']\n",
    "\n",
    "x_coords\n"
   ]
  },
  {
   "cell_type": "code",
   "execution_count": 84,
   "metadata": {},
   "outputs": [
    {
     "data": {
      "text/plain": [
       "<BarContainer object of 5 artists>"
      ]
     },
     "execution_count": 84,
     "metadata": {},
     "output_type": "execute_result"
    },
    {
     "data": {
      "image/png": "[encoded data removed]",
      "text/plain": [
       "<Figure size 432x288 with 1 Axes>"
      ]
     },
     "metadata": {
      "needs_background": "light"
     },
     "output_type": "display_data"
    }
   ],
   "source": [
    "plt.bar(stages,x_coords)"
   ]
  },
  {
   "cell_type": "code",
   "execution_count": null,
   "metadata": {},
   "outputs": [
    {
     "name": "stdout",
     "output_type": "stream",
     "text": [
      "Accuracy score: 0.4713\n",
      "0.43990326372182686\n"
     ]
    }
   ],
   "source": [
    "from sklearn.metrics import accuracy_score\n",
    "from sklearn.metrics import precision_score\n",
    "\n",
    "print('Accuracy score:',accuracy_score(one_hundred['Production Stage'], predictions))\n",
    "\n",
    "print(precision_score(one_hundred['Production Stage'], predictions, average='macro'))\n",
    "\n",
    "\n",
    "\n"
   ]
  },
  {
   "cell_type": "code",
   "execution_count": null,
   "metadata": {},
   "outputs": [
    {
     "data": {
      "text/plain": [
       "['Da',\n",
       " 'Dp',\n",
       " 'FWidth',\n",
       " 'FLength',\n",
       " 'FThickness',\n",
       " 'ELength',\n",
       " 'EThickness',\n",
       " 'EWidth',\n",
       " 'Area',\n",
       " 'Perimeter',\n",
       " 'CHull  Area',\n",
       " 'CHull Perimeter',\n",
       " 'Sphericity',\n",
       " 'L/T Ratio',\n",
       " 'T/L Aspect Ratio',\n",
       " 'Compactness',\n",
       " 'Roundness',\n",
       " 'Ellipse Ratio',\n",
       " 'Circularity',\n",
       " 'Solidity',\n",
       " 'Concavity',\n",
       " 'Convexity',\n",
       " 'Extent',\n",
       " 'L/W Ratio',\n",
       " 'W/L Ratio',\n",
       " 'W/T Ratio',\n",
       " 'CHull Surface Area',\n",
       " 'Sieve',\n",
       " 'Ellipticity',\n",
       " 'Fiber Length',\n",
       " 'Fiber Width']"
      ]
     },
     "execution_count": 20,
     "metadata": {},
     "output_type": "execute_result"
    }
   ],
   "source": [
    "Removed_features = ['T/W Ratio', 'Volume', 'Surface Area' ]\n",
    "new_setting =[x for x in filtered if x not in Removed_features]\n",
    "new_setting.append('Production Stage')\n",
    "new_data = data[new_setting]\n",
    "new_setting.pop()\n",
    "new_setting\n"
   ]
  },
  {
   "cell_type": "code",
   "execution_count": null,
   "metadata": {},
   "outputs": [
    {
     "ename": "ValueError",
     "evalue": "Invalid parameter Algorithm for estimator KNeighborsClassifier(leaf_size=5, p=1). Check the list of available parameters with `estimator.get_params().keys()`.",
     "output_type": "error",
     "traceback": [
      "\u001b[1;31m---------------------------------------------------------------------------\u001b[0m",
      "\u001b[1;31mValueError\u001b[0m                                Traceback (most recent call last)",
      "\u001b[1;32mc:\\Users\\resoj\\Documents\\GitHub\\final-project-the-rock-group-uk\\KNeighborsClassifier copy.ipynb Cell 20\u001b[0m in \u001b[0;36m<cell line: 10>\u001b[1;34m()\u001b[0m\n\u001b[0;32m      <a href='vscode-notebook-cell:/c%3A/Users/resoj/Documents/GitHub/final-project-the-rock-group-uk/KNeighborsClassifier%20copy.ipynb#ch0000021?line=7'>8</a>\u001b[0m seven \u001b[39m=\u001b[39m KNeighborsClassifier(n_neighbors\u001b[39m=\u001b[39m\u001b[39m5\u001b[39m, weights\u001b[39m=\u001b[39m \u001b[39m'\u001b[39m\u001b[39mdistance\u001b[39m\u001b[39m'\u001b[39m, algorithm\u001b[39m=\u001b[39m \u001b[39m'\u001b[39m\u001b[39mbrute\u001b[39m\u001b[39m'\u001b[39m, leaf_size\u001b[39m=\u001b[39m \u001b[39m35\u001b[39m, p\u001b[39m=\u001b[39m\u001b[39m2\u001b[39m)\n\u001b[0;32m      <a href='vscode-notebook-cell:/c%3A/Users/resoj/Documents/GitHub/final-project-the-rock-group-uk/KNeighborsClassifier%20copy.ipynb#ch0000021?line=8'>9</a>\u001b[0m search \u001b[39m=\u001b[39m GridSearchCV(model, my_dict)\n\u001b[1;32m---> <a href='vscode-notebook-cell:/c%3A/Users/resoj/Documents/GitHub/final-project-the-rock-group-uk/KNeighborsClassifier%20copy.ipynb#ch0000021?line=9'>10</a>\u001b[0m search\u001b[39m.\u001b[39;49mfit(new_data[new_setting], new_data[\u001b[39m\"\u001b[39;49m\u001b[39mProduction Stage\u001b[39;49m\u001b[39m\"\u001b[39;49m])\n\u001b[0;32m     <a href='vscode-notebook-cell:/c%3A/Users/resoj/Documents/GitHub/final-project-the-rock-group-uk/KNeighborsClassifier%20copy.ipynb#ch0000021?line=10'>11</a>\u001b[0m labels \u001b[39m=\u001b[39m new_data[\u001b[39m'\u001b[39m\u001b[39mProduction Stage\u001b[39m\u001b[39m'\u001b[39m]\n\u001b[0;32m     <a href='vscode-notebook-cell:/c%3A/Users/resoj/Documents/GitHub/final-project-the-rock-group-uk/KNeighborsClassifier%20copy.ipynb#ch0000021?line=12'>13</a>\u001b[0m random \u001b[39m=\u001b[39m new_data\u001b[39m.\u001b[39msample(frac \u001b[39m=\u001b[39m \u001b[39m1\u001b[39m)\n",
      "File \u001b[1;32mc:\\Users\\resoj\\anaconda3\\lib\\site-packages\\sklearn\\model_selection\\_search.py:891\u001b[0m, in \u001b[0;36mBaseSearchCV.fit\u001b[1;34m(self, X, y, groups, **fit_params)\u001b[0m\n\u001b[0;32m    885\u001b[0m     results \u001b[39m=\u001b[39m \u001b[39mself\u001b[39m\u001b[39m.\u001b[39m_format_results(\n\u001b[0;32m    886\u001b[0m         all_candidate_params, n_splits, all_out, all_more_results\n\u001b[0;32m    887\u001b[0m     )\n\u001b[0;32m    889\u001b[0m     \u001b[39mreturn\u001b[39;00m results\n\u001b[1;32m--> 891\u001b[0m \u001b[39mself\u001b[39;49m\u001b[39m.\u001b[39;49m_run_search(evaluate_candidates)\n\u001b[0;32m    893\u001b[0m \u001b[39m# multimetric is determined here because in the case of a callable\u001b[39;00m\n\u001b[0;32m    894\u001b[0m \u001b[39m# self.scoring the return type is only known after calling\u001b[39;00m\n\u001b[0;32m    895\u001b[0m first_test_score \u001b[39m=\u001b[39m all_out[\u001b[39m0\u001b[39m][\u001b[39m\"\u001b[39m\u001b[39mtest_scores\u001b[39m\u001b[39m\"\u001b[39m]\n",
      "File \u001b[1;32mc:\\Users\\resoj\\anaconda3\\lib\\site-packages\\sklearn\\model_selection\\_search.py:1392\u001b[0m, in \u001b[0;36mGridSearchCV._run_search\u001b[1;34m(self, evaluate_candidates)\u001b[0m\n\u001b[0;32m   1390\u001b[0m \u001b[39mdef\u001b[39;00m \u001b[39m_run_search\u001b[39m(\u001b[39mself\u001b[39m, evaluate_candidates):\n\u001b[0;32m   1391\u001b[0m     \u001b[39m\"\"\"Search all candidates in param_grid\"\"\"\u001b[39;00m\n\u001b[1;32m-> 1392\u001b[0m     evaluate_candidates(ParameterGrid(\u001b[39mself\u001b[39;49m\u001b[39m.\u001b[39;49mparam_grid))\n",
      "File \u001b[1;32mc:\\Users\\resoj\\anaconda3\\lib\\site-packages\\sklearn\\model_selection\\_search.py:838\u001b[0m, in \u001b[0;36mBaseSearchCV.fit.<locals>.evaluate_candidates\u001b[1;34m(candidate_params, cv, more_results)\u001b[0m\n\u001b[0;32m    830\u001b[0m \u001b[39mif\u001b[39;00m \u001b[39mself\u001b[39m\u001b[39m.\u001b[39mverbose \u001b[39m>\u001b[39m \u001b[39m0\u001b[39m:\n\u001b[0;32m    831\u001b[0m     \u001b[39mprint\u001b[39m(\n\u001b[0;32m    832\u001b[0m         \u001b[39m\"\u001b[39m\u001b[39mFitting \u001b[39m\u001b[39m{0}\u001b[39;00m\u001b[39m folds for each of \u001b[39m\u001b[39m{1}\u001b[39;00m\u001b[39m candidates,\u001b[39m\u001b[39m\"\u001b[39m\n\u001b[0;32m    833\u001b[0m         \u001b[39m\"\u001b[39m\u001b[39m totalling \u001b[39m\u001b[39m{2}\u001b[39;00m\u001b[39m fits\u001b[39m\u001b[39m\"\u001b[39m\u001b[39m.\u001b[39mformat(\n\u001b[0;32m    834\u001b[0m             n_splits, n_candidates, n_candidates \u001b[39m*\u001b[39m n_splits\n\u001b[0;32m    835\u001b[0m         )\n\u001b[0;32m    836\u001b[0m     )\n\u001b[1;32m--> 838\u001b[0m out \u001b[39m=\u001b[39m parallel(\n\u001b[0;32m    839\u001b[0m     delayed(_fit_and_score)(\n\u001b[0;32m    840\u001b[0m         clone(base_estimator),\n\u001b[0;32m    841\u001b[0m         X,\n\u001b[0;32m    842\u001b[0m         y,\n\u001b[0;32m    843\u001b[0m         train\u001b[39m=\u001b[39;49mtrain,\n\u001b[0;32m    844\u001b[0m         test\u001b[39m=\u001b[39;49mtest,\n\u001b[0;32m    845\u001b[0m         parameters\u001b[39m=\u001b[39;49mparameters,\n\u001b[0;32m    846\u001b[0m         split_progress\u001b[39m=\u001b[39;49m(split_idx, n_splits),\n\u001b[0;32m    847\u001b[0m         candidate_progress\u001b[39m=\u001b[39;49m(cand_idx, n_candidates),\n\u001b[0;32m    848\u001b[0m         \u001b[39m*\u001b[39;49m\u001b[39m*\u001b[39;49mfit_and_score_kwargs,\n\u001b[0;32m    849\u001b[0m     )\n\u001b[0;32m    850\u001b[0m     \u001b[39mfor\u001b[39;49;00m (cand_idx, parameters), (split_idx, (train, test)) \u001b[39min\u001b[39;49;00m product(\n\u001b[0;32m    851\u001b[0m         \u001b[39menumerate\u001b[39;49m(candidate_params), \u001b[39menumerate\u001b[39;49m(cv\u001b[39m.\u001b[39;49msplit(X, y, groups))\n\u001b[0;32m    852\u001b[0m     )\n\u001b[0;32m    853\u001b[0m )\n\u001b[0;32m    855\u001b[0m \u001b[39mif\u001b[39;00m \u001b[39mlen\u001b[39m(out) \u001b[39m<\u001b[39m \u001b[39m1\u001b[39m:\n\u001b[0;32m    856\u001b[0m     \u001b[39mraise\u001b[39;00m \u001b[39mValueError\u001b[39;00m(\n\u001b[0;32m    857\u001b[0m         \u001b[39m\"\u001b[39m\u001b[39mNo fits were performed. \u001b[39m\u001b[39m\"\u001b[39m\n\u001b[0;32m    858\u001b[0m         \u001b[39m\"\u001b[39m\u001b[39mWas the CV iterator empty? \u001b[39m\u001b[39m\"\u001b[39m\n\u001b[0;32m    859\u001b[0m         \u001b[39m\"\u001b[39m\u001b[39mWere there no candidates?\u001b[39m\u001b[39m\"\u001b[39m\n\u001b[0;32m    860\u001b[0m     )\n",
      "File \u001b[1;32mc:\\Users\\resoj\\anaconda3\\lib\\site-packages\\joblib\\parallel.py:1043\u001b[0m, in \u001b[0;36mParallel.__call__\u001b[1;34m(self, iterable)\u001b[0m\n\u001b[0;32m   1034\u001b[0m \u001b[39mtry\u001b[39;00m:\n\u001b[0;32m   1035\u001b[0m     \u001b[39m# Only set self._iterating to True if at least a batch\u001b[39;00m\n\u001b[0;32m   1036\u001b[0m     \u001b[39m# was dispatched. In particular this covers the edge\u001b[39;00m\n\u001b[1;32m   (...)\u001b[0m\n\u001b[0;32m   1040\u001b[0m     \u001b[39m# was very quick and its callback already dispatched all the\u001b[39;00m\n\u001b[0;32m   1041\u001b[0m     \u001b[39m# remaining jobs.\u001b[39;00m\n\u001b[0;32m   1042\u001b[0m     \u001b[39mself\u001b[39m\u001b[39m.\u001b[39m_iterating \u001b[39m=\u001b[39m \u001b[39mFalse\u001b[39;00m\n\u001b[1;32m-> 1043\u001b[0m     \u001b[39mif\u001b[39;00m \u001b[39mself\u001b[39;49m\u001b[39m.\u001b[39;49mdispatch_one_batch(iterator):\n\u001b[0;32m   1044\u001b[0m         \u001b[39mself\u001b[39m\u001b[39m.\u001b[39m_iterating \u001b[39m=\u001b[39m \u001b[39mself\u001b[39m\u001b[39m.\u001b[39m_original_iterator \u001b[39mis\u001b[39;00m \u001b[39mnot\u001b[39;00m \u001b[39mNone\u001b[39;00m\n\u001b[0;32m   1046\u001b[0m     \u001b[39mwhile\u001b[39;00m \u001b[39mself\u001b[39m\u001b[39m.\u001b[39mdispatch_one_batch(iterator):\n",
      "File \u001b[1;32mc:\\Users\\resoj\\anaconda3\\lib\\site-packages\\joblib\\parallel.py:861\u001b[0m, in \u001b[0;36mParallel.dispatch_one_batch\u001b[1;34m(self, iterator)\u001b[0m\n\u001b[0;32m    859\u001b[0m     \u001b[39mreturn\u001b[39;00m \u001b[39mFalse\u001b[39;00m\n\u001b[0;32m    860\u001b[0m \u001b[39melse\u001b[39;00m:\n\u001b[1;32m--> 861\u001b[0m     \u001b[39mself\u001b[39;49m\u001b[39m.\u001b[39;49m_dispatch(tasks)\n\u001b[0;32m    862\u001b[0m     \u001b[39mreturn\u001b[39;00m \u001b[39mTrue\u001b[39;00m\n",
      "File \u001b[1;32mc:\\Users\\resoj\\anaconda3\\lib\\site-packages\\joblib\\parallel.py:779\u001b[0m, in \u001b[0;36mParallel._dispatch\u001b[1;34m(self, batch)\u001b[0m\n\u001b[0;32m    777\u001b[0m \u001b[39mwith\u001b[39;00m \u001b[39mself\u001b[39m\u001b[39m.\u001b[39m_lock:\n\u001b[0;32m    778\u001b[0m     job_idx \u001b[39m=\u001b[39m \u001b[39mlen\u001b[39m(\u001b[39mself\u001b[39m\u001b[39m.\u001b[39m_jobs)\n\u001b[1;32m--> 779\u001b[0m     job \u001b[39m=\u001b[39m \u001b[39mself\u001b[39;49m\u001b[39m.\u001b[39;49m_backend\u001b[39m.\u001b[39;49mapply_async(batch, callback\u001b[39m=\u001b[39;49mcb)\n\u001b[0;32m    780\u001b[0m     \u001b[39m# A job can complete so quickly than its callback is\u001b[39;00m\n\u001b[0;32m    781\u001b[0m     \u001b[39m# called before we get here, causing self._jobs to\u001b[39;00m\n\u001b[0;32m    782\u001b[0m     \u001b[39m# grow. To ensure correct results ordering, .insert is\u001b[39;00m\n\u001b[0;32m    783\u001b[0m     \u001b[39m# used (rather than .append) in the following line\u001b[39;00m\n\u001b[0;32m    784\u001b[0m     \u001b[39mself\u001b[39m\u001b[39m.\u001b[39m_jobs\u001b[39m.\u001b[39minsert(job_idx, job)\n",
      "File \u001b[1;32mc:\\Users\\resoj\\anaconda3\\lib\\site-packages\\joblib\\_parallel_backends.py:208\u001b[0m, in \u001b[0;36mSequentialBackend.apply_async\u001b[1;34m(self, func, callback)\u001b[0m\n\u001b[0;32m    206\u001b[0m \u001b[39mdef\u001b[39;00m \u001b[39mapply_async\u001b[39m(\u001b[39mself\u001b[39m, func, callback\u001b[39m=\u001b[39m\u001b[39mNone\u001b[39;00m):\n\u001b[0;32m    207\u001b[0m     \u001b[39m\"\"\"Schedule a func to be run\"\"\"\u001b[39;00m\n\u001b[1;32m--> 208\u001b[0m     result \u001b[39m=\u001b[39m ImmediateResult(func)\n\u001b[0;32m    209\u001b[0m     \u001b[39mif\u001b[39;00m callback:\n\u001b[0;32m    210\u001b[0m         callback(result)\n",
      "File \u001b[1;32mc:\\Users\\resoj\\anaconda3\\lib\\site-packages\\joblib\\_parallel_backends.py:572\u001b[0m, in \u001b[0;36mImmediateResult.__init__\u001b[1;34m(self, batch)\u001b[0m\n\u001b[0;32m    569\u001b[0m \u001b[39mdef\u001b[39;00m \u001b[39m__init__\u001b[39m(\u001b[39mself\u001b[39m, batch):\n\u001b[0;32m    570\u001b[0m     \u001b[39m# Don't delay the application, to avoid keeping the input\u001b[39;00m\n\u001b[0;32m    571\u001b[0m     \u001b[39m# arguments in memory\u001b[39;00m\n\u001b[1;32m--> 572\u001b[0m     \u001b[39mself\u001b[39m\u001b[39m.\u001b[39mresults \u001b[39m=\u001b[39m batch()\n",
      "File \u001b[1;32mc:\\Users\\resoj\\anaconda3\\lib\\site-packages\\joblib\\parallel.py:262\u001b[0m, in \u001b[0;36mBatchedCalls.__call__\u001b[1;34m(self)\u001b[0m\n\u001b[0;32m    258\u001b[0m \u001b[39mdef\u001b[39;00m \u001b[39m__call__\u001b[39m(\u001b[39mself\u001b[39m):\n\u001b[0;32m    259\u001b[0m     \u001b[39m# Set the default nested backend to self._backend but do not set the\u001b[39;00m\n\u001b[0;32m    260\u001b[0m     \u001b[39m# change the default number of processes to -1\u001b[39;00m\n\u001b[0;32m    261\u001b[0m     \u001b[39mwith\u001b[39;00m parallel_backend(\u001b[39mself\u001b[39m\u001b[39m.\u001b[39m_backend, n_jobs\u001b[39m=\u001b[39m\u001b[39mself\u001b[39m\u001b[39m.\u001b[39m_n_jobs):\n\u001b[1;32m--> 262\u001b[0m         \u001b[39mreturn\u001b[39;00m [func(\u001b[39m*\u001b[39margs, \u001b[39m*\u001b[39m\u001b[39m*\u001b[39mkwargs)\n\u001b[0;32m    263\u001b[0m                 \u001b[39mfor\u001b[39;00m func, args, kwargs \u001b[39min\u001b[39;00m \u001b[39mself\u001b[39m\u001b[39m.\u001b[39mitems]\n",
      "File \u001b[1;32mc:\\Users\\resoj\\anaconda3\\lib\\site-packages\\joblib\\parallel.py:262\u001b[0m, in \u001b[0;36m<listcomp>\u001b[1;34m(.0)\u001b[0m\n\u001b[0;32m    258\u001b[0m \u001b[39mdef\u001b[39;00m \u001b[39m__call__\u001b[39m(\u001b[39mself\u001b[39m):\n\u001b[0;32m    259\u001b[0m     \u001b[39m# Set the default nested backend to self._backend but do not set the\u001b[39;00m\n\u001b[0;32m    260\u001b[0m     \u001b[39m# change the default number of processes to -1\u001b[39;00m\n\u001b[0;32m    261\u001b[0m     \u001b[39mwith\u001b[39;00m parallel_backend(\u001b[39mself\u001b[39m\u001b[39m.\u001b[39m_backend, n_jobs\u001b[39m=\u001b[39m\u001b[39mself\u001b[39m\u001b[39m.\u001b[39m_n_jobs):\n\u001b[1;32m--> 262\u001b[0m         \u001b[39mreturn\u001b[39;00m [func(\u001b[39m*\u001b[39margs, \u001b[39m*\u001b[39m\u001b[39m*\u001b[39mkwargs)\n\u001b[0;32m    263\u001b[0m                 \u001b[39mfor\u001b[39;00m func, args, kwargs \u001b[39min\u001b[39;00m \u001b[39mself\u001b[39m\u001b[39m.\u001b[39mitems]\n",
      "File \u001b[1;32mc:\\Users\\resoj\\anaconda3\\lib\\site-packages\\sklearn\\utils\\fixes.py:216\u001b[0m, in \u001b[0;36m_FuncWrapper.__call__\u001b[1;34m(self, *args, **kwargs)\u001b[0m\n\u001b[0;32m    214\u001b[0m \u001b[39mdef\u001b[39;00m \u001b[39m__call__\u001b[39m(\u001b[39mself\u001b[39m, \u001b[39m*\u001b[39margs, \u001b[39m*\u001b[39m\u001b[39m*\u001b[39mkwargs):\n\u001b[0;32m    215\u001b[0m     \u001b[39mwith\u001b[39;00m config_context(\u001b[39m*\u001b[39m\u001b[39m*\u001b[39m\u001b[39mself\u001b[39m\u001b[39m.\u001b[39mconfig):\n\u001b[1;32m--> 216\u001b[0m         \u001b[39mreturn\u001b[39;00m \u001b[39mself\u001b[39m\u001b[39m.\u001b[39mfunction(\u001b[39m*\u001b[39margs, \u001b[39m*\u001b[39m\u001b[39m*\u001b[39mkwargs)\n",
      "File \u001b[1;32mc:\\Users\\resoj\\anaconda3\\lib\\site-packages\\sklearn\\model_selection\\_validation.py:668\u001b[0m, in \u001b[0;36m_fit_and_score\u001b[1;34m(estimator, X, y, scorer, train, test, verbose, parameters, fit_params, return_train_score, return_parameters, return_n_test_samples, return_times, return_estimator, split_progress, candidate_progress, error_score)\u001b[0m\n\u001b[0;32m    665\u001b[0m     \u001b[39mfor\u001b[39;00m k, v \u001b[39min\u001b[39;00m parameters\u001b[39m.\u001b[39mitems():\n\u001b[0;32m    666\u001b[0m         cloned_parameters[k] \u001b[39m=\u001b[39m clone(v, safe\u001b[39m=\u001b[39m\u001b[39mFalse\u001b[39;00m)\n\u001b[1;32m--> 668\u001b[0m     estimator \u001b[39m=\u001b[39m estimator\u001b[39m.\u001b[39mset_params(\u001b[39m*\u001b[39m\u001b[39m*\u001b[39mcloned_parameters)\n\u001b[0;32m    670\u001b[0m start_time \u001b[39m=\u001b[39m time\u001b[39m.\u001b[39mtime()\n\u001b[0;32m    672\u001b[0m X_train, y_train \u001b[39m=\u001b[39m _safe_split(estimator, X, y, train)\n",
      "File \u001b[1;32mc:\\Users\\resoj\\anaconda3\\lib\\site-packages\\sklearn\\base.py:245\u001b[0m, in \u001b[0;36mBaseEstimator.set_params\u001b[1;34m(self, **params)\u001b[0m\n\u001b[0;32m    243\u001b[0m key, delim, sub_key \u001b[39m=\u001b[39m key\u001b[39m.\u001b[39mpartition(\u001b[39m\"\u001b[39m\u001b[39m__\u001b[39m\u001b[39m\"\u001b[39m)\n\u001b[0;32m    244\u001b[0m \u001b[39mif\u001b[39;00m key \u001b[39mnot\u001b[39;00m \u001b[39min\u001b[39;00m valid_params:\n\u001b[1;32m--> 245\u001b[0m     \u001b[39mraise\u001b[39;00m \u001b[39mValueError\u001b[39;00m(\n\u001b[0;32m    246\u001b[0m         \u001b[39m\"\u001b[39m\u001b[39mInvalid parameter \u001b[39m\u001b[39m%s\u001b[39;00m\u001b[39m for estimator \u001b[39m\u001b[39m%s\u001b[39;00m\u001b[39m. \u001b[39m\u001b[39m\"\u001b[39m\n\u001b[0;32m    247\u001b[0m         \u001b[39m\"\u001b[39m\u001b[39mCheck the list of available parameters \u001b[39m\u001b[39m\"\u001b[39m\n\u001b[0;32m    248\u001b[0m         \u001b[39m\"\u001b[39m\u001b[39mwith `estimator.get_params().keys()`.\u001b[39m\u001b[39m\"\u001b[39m \u001b[39m%\u001b[39m (key, \u001b[39mself\u001b[39m)\n\u001b[0;32m    249\u001b[0m     )\n\u001b[0;32m    251\u001b[0m \u001b[39mif\u001b[39;00m delim:\n\u001b[0;32m    252\u001b[0m     nested_params[key][sub_key] \u001b[39m=\u001b[39m value\n",
      "\u001b[1;31mValueError\u001b[0m: Invalid parameter Algorithm for estimator KNeighborsClassifier(leaf_size=5, p=1). Check the list of available parameters with `estimator.get_params().keys()`."
     ]
    }
   ],
   "source": [
    "from sklearn.neighbors import KNeighborsClassifier\n",
    "\n",
    "my_dict = {'leaf_size': range(30,40),\n",
    "            'Algorithm': ['auto', 'ball_tree', 'kd_tree', 'brute']}\n",
    "\n",
    "\n",
    "\n",
    "seven = KNeighborsClassifier(n_neighbors=5, weights= 'distance', algorithm= 'brute', leaf_size= 35, p=2)\n",
    "search = GridSearchCV(model, my_dict)\n",
    "search.fit(new_data[new_setting], new_data[\"Production Stage\"])\n",
    "labels = new_data['Production Stage']\n",
    "\n",
    "random = new_data.sample(frac = 1)\n",
    "\n",
    "one_hundred = random[:5000]\n",
    "\n",
    "predictions = search.predict(one_hundred[new_setting])"
   ]
  },
  {
   "cell_type": "code",
   "execution_count": null,
   "metadata": {},
   "outputs": [
    {
     "name": "stdout",
     "output_type": "stream",
     "text": [
      "Accuracy score: 0.7976\n",
      "0.8204975124378109\n"
     ]
    }
   ],
   "source": [
    "print('Accuracy score:',accuracy_score(one_hundred['Production Stage'], predictions))\n",
    "\n",
    "print(precision_score(one_hundred['Production Stage'], predictions, average='macro'))"
   ]
  }
 ],
 "metadata": {
  "kernelspec": {
   "display_name": "Python 3.9.12 ('base')",
   "language": "python",
   "name": "python3"
  },
  "language_info": {
   "codemirror_mode": {
    "name": "ipython",
    "version": 3
   },
   "file_extension": ".py",
   "mimetype": "text/x-python",
   "name": "python",
   "nbconvert_exporter": "python",
   "pygments_lexer": "ipython3",
   "version": "3.9.12"
  },
  "orig_nbformat": 4,
  "vscode": {
   "interpreter": {
    "hash": "633e2e1828dce7f2c42edc664dde697cf67ca5117a6e5323e6b9cf1e265503fa"
   }
  }
 },
 "nbformat": 4,
 "nbformat_minor": 2
}
